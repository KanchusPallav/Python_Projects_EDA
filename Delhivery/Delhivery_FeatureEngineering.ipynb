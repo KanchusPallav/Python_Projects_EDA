{
  "nbformat": 4,
  "nbformat_minor": 0,
  "metadata": {
    "colab": {
      "provenance": []
    },
    "kernelspec": {
      "name": "python3",
      "display_name": "Python 3"
    },
    "language_info": {
      "name": "python"
    }
  },
  "cells": [
    {
      "cell_type": "markdown",
      "source": [
        "# **--------------------------Delhivery - Logistics Company-----------------**"
      ],
      "metadata": {
        "id": "Bw7n0qSM8dNj"
      }
    },
    {
      "cell_type": "markdown",
      "source": [
        "*   Delhivery is the largest and fastest-growing fully integrated player in India by revenue in Fiscal 2021. They aim to build the operating system for commerce, through a combination of world-class infrastructure, logistics operations of the highest quality, and cutting-edge engineering and technology capabilities.\n",
        "\n",
        "**The company wants to understand and process the data coming out of data engineering pipelines:**\n",
        "*   Clean, sanitize and manipulate data to get useful features out of raw fields\n",
        "*   Make sense out of the raw data and help the data science team to build forecasting models on it."
      ],
      "metadata": {
        "id": "9qKaeNpD8we3"
      }
    },
    {
      "cell_type": "markdown",
      "source": [
        "**Variables considered in tracking Business:**\n",
        "\n",
        "*   data - tells whether the data is testing or training data\n",
        "*   trip_creation_time – Timestamp of trip creation\n",
        "*   route_schedule_uuid – Unique Id for a particular route schedule\n",
        "*   route_type – Transportation type\n",
        "    1.   FTL – Full Truck Load: FTL shipments get to the destination sooner, as the truck is making no other pickups or drop-offs along the way\n",
        "    2.   Carting: Handling system consisting of small vehicles (carts)\n",
        "*   trip_uuid - Unique ID given to a particular trip (A trip may include different source and destination centers)\n",
        "*   source_center - Source ID of trip origin\n",
        "*   source_name - Source Name of trip origin\n",
        "*   destination_cente – Destination ID\n",
        "*   destination_name – Destination Name\n",
        "*   od_start_time – Trip start time\n",
        "*   od_end_time – Trip end time\n",
        "*   start_scan_to_end_scan – Time taken to deliver from source to destination\n",
        "*   is_cutoff – Unknown field\n",
        "*   cutoff_factor – Unknown field\n",
        "*   cutoff_timestamp – Unknown field\n",
        "*   actual_distance_to_destination – Distance in Kms between source and destination warehouse\n",
        "*   actual_time – Actual time taken to complete the delivery (Cumulative)\n",
        "*   osrm_time – An open-source routing engine time calculator which computes the shortest path between points in a given map (Includes usual traffic, distance through major and minor roads) and gives the time (Cumulative)\n",
        "*   osrm_distance – An open-source routing engine which computes the shortest path between points in a given map (Includes usual traffic, distance through major and minor roads) (Cumulative)\n",
        "*   factor – Unknown field\n",
        "*   segment_actual_time – This is a segment time. Time taken by the subset of the package delivery\n",
        "*   segment_osrm_time – This is the OSRM segment time. Time taken by the subset of the package delivery\n",
        "*   segment_osrm_distance – This is the OSRM distance. Distance covered by subset of the package delivery\n",
        "*   segment_factor – Unknown field"
      ],
      "metadata": {
        "id": "gKDBUGNe-QjH"
      }
    },
    {
      "cell_type": "markdown",
      "source": [
        "# **Explorative Data Analysis(EDA)**"
      ],
      "metadata": {
        "id": "CG9ePODDCZvO"
      }
    },
    {
      "cell_type": "markdown",
      "source": [
        "*   **Importing necessary packages for EDA**"
      ],
      "metadata": {
        "id": "RQDJBZJkCpTl"
      }
    },
    {
      "cell_type": "code",
      "execution_count": 71,
      "metadata": {
        "id": "MkNU0QBR6eYU"
      },
      "outputs": [],
      "source": [
        "import numpy as np\n",
        "import pandas as pd\n",
        "import seaborn as sns\n",
        "import matplotlib.pyplot as plt\n",
        "import warnings\n",
        "from datetime import datetime as dt\n",
        "import scipy.stats as stats\n",
        "from scipy.stats import ttest_ind\n",
        "warnings.filterwarnings('ignore')"
      ]
    },
    {
      "cell_type": "markdown",
      "source": [
        "*   **Importing/Reading the dataset for EDA**"
      ],
      "metadata": {
        "id": "S-vkzqNLC3AI"
      }
    },
    {
      "cell_type": "code",
      "source": [
        "d=pd.read_csv(\"delhivery_data.csv\")"
      ],
      "metadata": {
        "id": "Fc7bSqPQC-sL"
      },
      "execution_count": 72,
      "outputs": []
    },
    {
      "cell_type": "code",
      "source": [
        "d.head()"
      ],
      "metadata": {
        "id": "jjL5irp0DO87",
        "colab": {
          "base_uri": "https://localhost:8080/",
          "height": 429
        },
        "outputId": "11ba97b0-11ba-464f-9fca-68ac1119e0ad"
      },
      "execution_count": 73,
      "outputs": [
        {
          "output_type": "execute_result",
          "data": {
            "text/plain": [
              "       data          trip_creation_time  \\\n",
              "0  training  2018-09-20 02:35:36.476840   \n",
              "1  training  2018-09-20 02:35:36.476840   \n",
              "2  training  2018-09-20 02:35:36.476840   \n",
              "3  training  2018-09-20 02:35:36.476840   \n",
              "4  training  2018-09-20 02:35:36.476840   \n",
              "\n",
              "                                 route_schedule_uuid route_type  \\\n",
              "0  thanos::sroute:eb7bfc78-b351-4c0e-a951-fa3d5c3...    Carting   \n",
              "1  thanos::sroute:eb7bfc78-b351-4c0e-a951-fa3d5c3...    Carting   \n",
              "2  thanos::sroute:eb7bfc78-b351-4c0e-a951-fa3d5c3...    Carting   \n",
              "3  thanos::sroute:eb7bfc78-b351-4c0e-a951-fa3d5c3...    Carting   \n",
              "4  thanos::sroute:eb7bfc78-b351-4c0e-a951-fa3d5c3...    Carting   \n",
              "\n",
              "                 trip_uuid source_center                 source_name  \\\n",
              "0  trip-153741093647649320  IND388121AAA  Anand_VUNagar_DC (Gujarat)   \n",
              "1  trip-153741093647649320  IND388121AAA  Anand_VUNagar_DC (Gujarat)   \n",
              "2  trip-153741093647649320  IND388121AAA  Anand_VUNagar_DC (Gujarat)   \n",
              "3  trip-153741093647649320  IND388121AAA  Anand_VUNagar_DC (Gujarat)   \n",
              "4  trip-153741093647649320  IND388121AAA  Anand_VUNagar_DC (Gujarat)   \n",
              "\n",
              "  destination_center               destination_name  \\\n",
              "0       IND388620AAB  Khambhat_MotvdDPP_D (Gujarat)   \n",
              "1       IND388620AAB  Khambhat_MotvdDPP_D (Gujarat)   \n",
              "2       IND388620AAB  Khambhat_MotvdDPP_D (Gujarat)   \n",
              "3       IND388620AAB  Khambhat_MotvdDPP_D (Gujarat)   \n",
              "4       IND388620AAB  Khambhat_MotvdDPP_D (Gujarat)   \n",
              "\n",
              "                od_start_time  ...            cutoff_timestamp  \\\n",
              "0  2018-09-20 03:21:32.418600  ...         2018-09-20 04:27:55   \n",
              "1  2018-09-20 03:21:32.418600  ...         2018-09-20 04:17:55   \n",
              "2  2018-09-20 03:21:32.418600  ...  2018-09-20 04:01:19.505586   \n",
              "3  2018-09-20 03:21:32.418600  ...         2018-09-20 03:39:57   \n",
              "4  2018-09-20 03:21:32.418600  ...         2018-09-20 03:33:55   \n",
              "\n",
              "   actual_distance_to_destination  actual_time  osrm_time osrm_distance  \\\n",
              "0                       10.435660         14.0       11.0       11.9653   \n",
              "1                       18.936842         24.0       20.0       21.7243   \n",
              "2                       27.637279         40.0       28.0       32.5395   \n",
              "3                       36.118028         62.0       40.0       45.5620   \n",
              "4                       39.386040         68.0       44.0       54.2181   \n",
              "\n",
              "     factor  segment_actual_time  segment_osrm_time  segment_osrm_distance  \\\n",
              "0  1.272727                 14.0               11.0                11.9653   \n",
              "1  1.200000                 10.0                9.0                 9.7590   \n",
              "2  1.428571                 16.0                7.0                10.8152   \n",
              "3  1.550000                 21.0               12.0                13.0224   \n",
              "4  1.545455                  6.0                5.0                 3.9153   \n",
              "\n",
              "   segment_factor  \n",
              "0        1.272727  \n",
              "1        1.111111  \n",
              "2        2.285714  \n",
              "3        1.750000  \n",
              "4        1.200000  \n",
              "\n",
              "[5 rows x 24 columns]"
            ],
            "text/html": [
              "\n",
              "  <div id=\"df-1686345e-5ed8-41d9-9e00-5afcbff422d4\" class=\"colab-df-container\">\n",
              "    <div>\n",
              "<style scoped>\n",
              "    .dataframe tbody tr th:only-of-type {\n",
              "        vertical-align: middle;\n",
              "    }\n",
              "\n",
              "    .dataframe tbody tr th {\n",
              "        vertical-align: top;\n",
              "    }\n",
              "\n",
              "    .dataframe thead th {\n",
              "        text-align: right;\n",
              "    }\n",
              "</style>\n",
              "<table border=\"1\" class=\"dataframe\">\n",
              "  <thead>\n",
              "    <tr style=\"text-align: right;\">\n",
              "      <th></th>\n",
              "      <th>data</th>\n",
              "      <th>trip_creation_time</th>\n",
              "      <th>route_schedule_uuid</th>\n",
              "      <th>route_type</th>\n",
              "      <th>trip_uuid</th>\n",
              "      <th>source_center</th>\n",
              "      <th>source_name</th>\n",
              "      <th>destination_center</th>\n",
              "      <th>destination_name</th>\n",
              "      <th>od_start_time</th>\n",
              "      <th>...</th>\n",
              "      <th>cutoff_timestamp</th>\n",
              "      <th>actual_distance_to_destination</th>\n",
              "      <th>actual_time</th>\n",
              "      <th>osrm_time</th>\n",
              "      <th>osrm_distance</th>\n",
              "      <th>factor</th>\n",
              "      <th>segment_actual_time</th>\n",
              "      <th>segment_osrm_time</th>\n",
              "      <th>segment_osrm_distance</th>\n",
              "      <th>segment_factor</th>\n",
              "    </tr>\n",
              "  </thead>\n",
              "  <tbody>\n",
              "    <tr>\n",
              "      <th>0</th>\n",
              "      <td>training</td>\n",
              "      <td>2018-09-20 02:35:36.476840</td>\n",
              "      <td>thanos::sroute:eb7bfc78-b351-4c0e-a951-fa3d5c3...</td>\n",
              "      <td>Carting</td>\n",
              "      <td>trip-153741093647649320</td>\n",
              "      <td>IND388121AAA</td>\n",
              "      <td>Anand_VUNagar_DC (Gujarat)</td>\n",
              "      <td>IND388620AAB</td>\n",
              "      <td>Khambhat_MotvdDPP_D (Gujarat)</td>\n",
              "      <td>2018-09-20 03:21:32.418600</td>\n",
              "      <td>...</td>\n",
              "      <td>2018-09-20 04:27:55</td>\n",
              "      <td>10.435660</td>\n",
              "      <td>14.0</td>\n",
              "      <td>11.0</td>\n",
              "      <td>11.9653</td>\n",
              "      <td>1.272727</td>\n",
              "      <td>14.0</td>\n",
              "      <td>11.0</td>\n",
              "      <td>11.9653</td>\n",
              "      <td>1.272727</td>\n",
              "    </tr>\n",
              "    <tr>\n",
              "      <th>1</th>\n",
              "      <td>training</td>\n",
              "      <td>2018-09-20 02:35:36.476840</td>\n",
              "      <td>thanos::sroute:eb7bfc78-b351-4c0e-a951-fa3d5c3...</td>\n",
              "      <td>Carting</td>\n",
              "      <td>trip-153741093647649320</td>\n",
              "      <td>IND388121AAA</td>\n",
              "      <td>Anand_VUNagar_DC (Gujarat)</td>\n",
              "      <td>IND388620AAB</td>\n",
              "      <td>Khambhat_MotvdDPP_D (Gujarat)</td>\n",
              "      <td>2018-09-20 03:21:32.418600</td>\n",
              "      <td>...</td>\n",
              "      <td>2018-09-20 04:17:55</td>\n",
              "      <td>18.936842</td>\n",
              "      <td>24.0</td>\n",
              "      <td>20.0</td>\n",
              "      <td>21.7243</td>\n",
              "      <td>1.200000</td>\n",
              "      <td>10.0</td>\n",
              "      <td>9.0</td>\n",
              "      <td>9.7590</td>\n",
              "      <td>1.111111</td>\n",
              "    </tr>\n",
              "    <tr>\n",
              "      <th>2</th>\n",
              "      <td>training</td>\n",
              "      <td>2018-09-20 02:35:36.476840</td>\n",
              "      <td>thanos::sroute:eb7bfc78-b351-4c0e-a951-fa3d5c3...</td>\n",
              "      <td>Carting</td>\n",
              "      <td>trip-153741093647649320</td>\n",
              "      <td>IND388121AAA</td>\n",
              "      <td>Anand_VUNagar_DC (Gujarat)</td>\n",
              "      <td>IND388620AAB</td>\n",
              "      <td>Khambhat_MotvdDPP_D (Gujarat)</td>\n",
              "      <td>2018-09-20 03:21:32.418600</td>\n",
              "      <td>...</td>\n",
              "      <td>2018-09-20 04:01:19.505586</td>\n",
              "      <td>27.637279</td>\n",
              "      <td>40.0</td>\n",
              "      <td>28.0</td>\n",
              "      <td>32.5395</td>\n",
              "      <td>1.428571</td>\n",
              "      <td>16.0</td>\n",
              "      <td>7.0</td>\n",
              "      <td>10.8152</td>\n",
              "      <td>2.285714</td>\n",
              "    </tr>\n",
              "    <tr>\n",
              "      <th>3</th>\n",
              "      <td>training</td>\n",
              "      <td>2018-09-20 02:35:36.476840</td>\n",
              "      <td>thanos::sroute:eb7bfc78-b351-4c0e-a951-fa3d5c3...</td>\n",
              "      <td>Carting</td>\n",
              "      <td>trip-153741093647649320</td>\n",
              "      <td>IND388121AAA</td>\n",
              "      <td>Anand_VUNagar_DC (Gujarat)</td>\n",
              "      <td>IND388620AAB</td>\n",
              "      <td>Khambhat_MotvdDPP_D (Gujarat)</td>\n",
              "      <td>2018-09-20 03:21:32.418600</td>\n",
              "      <td>...</td>\n",
              "      <td>2018-09-20 03:39:57</td>\n",
              "      <td>36.118028</td>\n",
              "      <td>62.0</td>\n",
              "      <td>40.0</td>\n",
              "      <td>45.5620</td>\n",
              "      <td>1.550000</td>\n",
              "      <td>21.0</td>\n",
              "      <td>12.0</td>\n",
              "      <td>13.0224</td>\n",
              "      <td>1.750000</td>\n",
              "    </tr>\n",
              "    <tr>\n",
              "      <th>4</th>\n",
              "      <td>training</td>\n",
              "      <td>2018-09-20 02:35:36.476840</td>\n",
              "      <td>thanos::sroute:eb7bfc78-b351-4c0e-a951-fa3d5c3...</td>\n",
              "      <td>Carting</td>\n",
              "      <td>trip-153741093647649320</td>\n",
              "      <td>IND388121AAA</td>\n",
              "      <td>Anand_VUNagar_DC (Gujarat)</td>\n",
              "      <td>IND388620AAB</td>\n",
              "      <td>Khambhat_MotvdDPP_D (Gujarat)</td>\n",
              "      <td>2018-09-20 03:21:32.418600</td>\n",
              "      <td>...</td>\n",
              "      <td>2018-09-20 03:33:55</td>\n",
              "      <td>39.386040</td>\n",
              "      <td>68.0</td>\n",
              "      <td>44.0</td>\n",
              "      <td>54.2181</td>\n",
              "      <td>1.545455</td>\n",
              "      <td>6.0</td>\n",
              "      <td>5.0</td>\n",
              "      <td>3.9153</td>\n",
              "      <td>1.200000</td>\n",
              "    </tr>\n",
              "  </tbody>\n",
              "</table>\n",
              "<p>5 rows × 24 columns</p>\n",
              "</div>\n",
              "    <div class=\"colab-df-buttons\">\n",
              "\n",
              "  <div class=\"colab-df-container\">\n",
              "    <button class=\"colab-df-convert\" onclick=\"convertToInteractive('df-1686345e-5ed8-41d9-9e00-5afcbff422d4')\"\n",
              "            title=\"Convert this dataframe to an interactive table.\"\n",
              "            style=\"display:none;\">\n",
              "\n",
              "  <svg xmlns=\"http://www.w3.org/2000/svg\" height=\"24px\" viewBox=\"0 -960 960 960\">\n",
              "    <path d=\"M120-120v-720h720v720H120Zm60-500h600v-160H180v160Zm220 220h160v-160H400v160Zm0 220h160v-160H400v160ZM180-400h160v-160H180v160Zm440 0h160v-160H620v160ZM180-180h160v-160H180v160Zm440 0h160v-160H620v160Z\"/>\n",
              "  </svg>\n",
              "    </button>\n",
              "\n",
              "  <style>\n",
              "    .colab-df-container {\n",
              "      display:flex;\n",
              "      gap: 12px;\n",
              "    }\n",
              "\n",
              "    .colab-df-convert {\n",
              "      background-color: #E8F0FE;\n",
              "      border: none;\n",
              "      border-radius: 50%;\n",
              "      cursor: pointer;\n",
              "      display: none;\n",
              "      fill: #1967D2;\n",
              "      height: 32px;\n",
              "      padding: 0 0 0 0;\n",
              "      width: 32px;\n",
              "    }\n",
              "\n",
              "    .colab-df-convert:hover {\n",
              "      background-color: #E2EBFA;\n",
              "      box-shadow: 0px 1px 2px rgba(60, 64, 67, 0.3), 0px 1px 3px 1px rgba(60, 64, 67, 0.15);\n",
              "      fill: #174EA6;\n",
              "    }\n",
              "\n",
              "    .colab-df-buttons div {\n",
              "      margin-bottom: 4px;\n",
              "    }\n",
              "\n",
              "    [theme=dark] .colab-df-convert {\n",
              "      background-color: #3B4455;\n",
              "      fill: #D2E3FC;\n",
              "    }\n",
              "\n",
              "    [theme=dark] .colab-df-convert:hover {\n",
              "      background-color: #434B5C;\n",
              "      box-shadow: 0px 1px 3px 1px rgba(0, 0, 0, 0.15);\n",
              "      filter: drop-shadow(0px 1px 2px rgba(0, 0, 0, 0.3));\n",
              "      fill: #FFFFFF;\n",
              "    }\n",
              "  </style>\n",
              "\n",
              "    <script>\n",
              "      const buttonEl =\n",
              "        document.querySelector('#df-1686345e-5ed8-41d9-9e00-5afcbff422d4 button.colab-df-convert');\n",
              "      buttonEl.style.display =\n",
              "        google.colab.kernel.accessAllowed ? 'block' : 'none';\n",
              "\n",
              "      async function convertToInteractive(key) {\n",
              "        const element = document.querySelector('#df-1686345e-5ed8-41d9-9e00-5afcbff422d4');\n",
              "        const dataTable =\n",
              "          await google.colab.kernel.invokeFunction('convertToInteractive',\n",
              "                                                    [key], {});\n",
              "        if (!dataTable) return;\n",
              "\n",
              "        const docLinkHtml = 'Like what you see? Visit the ' +\n",
              "          '<a target=\"_blank\" href=https://colab.research.google.com/notebooks/data_table.ipynb>data table notebook</a>'\n",
              "          + ' to learn more about interactive tables.';\n",
              "        element.innerHTML = '';\n",
              "        dataTable['output_type'] = 'display_data';\n",
              "        await google.colab.output.renderOutput(dataTable, element);\n",
              "        const docLink = document.createElement('div');\n",
              "        docLink.innerHTML = docLinkHtml;\n",
              "        element.appendChild(docLink);\n",
              "      }\n",
              "    </script>\n",
              "  </div>\n",
              "\n",
              "\n",
              "<div id=\"df-383e3d72-e21d-4acb-a747-4d48c940f8f8\">\n",
              "  <button class=\"colab-df-quickchart\" onclick=\"quickchart('df-383e3d72-e21d-4acb-a747-4d48c940f8f8')\"\n",
              "            title=\"Suggest charts\"\n",
              "            style=\"display:none;\">\n",
              "\n",
              "<svg xmlns=\"http://www.w3.org/2000/svg\" height=\"24px\"viewBox=\"0 0 24 24\"\n",
              "     width=\"24px\">\n",
              "    <g>\n",
              "        <path d=\"M19 3H5c-1.1 0-2 .9-2 2v14c0 1.1.9 2 2 2h14c1.1 0 2-.9 2-2V5c0-1.1-.9-2-2-2zM9 17H7v-7h2v7zm4 0h-2V7h2v10zm4 0h-2v-4h2v4z\"/>\n",
              "    </g>\n",
              "</svg>\n",
              "  </button>\n",
              "\n",
              "<style>\n",
              "  .colab-df-quickchart {\n",
              "      --bg-color: #E8F0FE;\n",
              "      --fill-color: #1967D2;\n",
              "      --hover-bg-color: #E2EBFA;\n",
              "      --hover-fill-color: #174EA6;\n",
              "      --disabled-fill-color: #AAA;\n",
              "      --disabled-bg-color: #DDD;\n",
              "  }\n",
              "\n",
              "  [theme=dark] .colab-df-quickchart {\n",
              "      --bg-color: #3B4455;\n",
              "      --fill-color: #D2E3FC;\n",
              "      --hover-bg-color: #434B5C;\n",
              "      --hover-fill-color: #FFFFFF;\n",
              "      --disabled-bg-color: #3B4455;\n",
              "      --disabled-fill-color: #666;\n",
              "  }\n",
              "\n",
              "  .colab-df-quickchart {\n",
              "    background-color: var(--bg-color);\n",
              "    border: none;\n",
              "    border-radius: 50%;\n",
              "    cursor: pointer;\n",
              "    display: none;\n",
              "    fill: var(--fill-color);\n",
              "    height: 32px;\n",
              "    padding: 0;\n",
              "    width: 32px;\n",
              "  }\n",
              "\n",
              "  .colab-df-quickchart:hover {\n",
              "    background-color: var(--hover-bg-color);\n",
              "    box-shadow: 0 1px 2px rgba(60, 64, 67, 0.3), 0 1px 3px 1px rgba(60, 64, 67, 0.15);\n",
              "    fill: var(--button-hover-fill-color);\n",
              "  }\n",
              "\n",
              "  .colab-df-quickchart-complete:disabled,\n",
              "  .colab-df-quickchart-complete:disabled:hover {\n",
              "    background-color: var(--disabled-bg-color);\n",
              "    fill: var(--disabled-fill-color);\n",
              "    box-shadow: none;\n",
              "  }\n",
              "\n",
              "  .colab-df-spinner {\n",
              "    border: 2px solid var(--fill-color);\n",
              "    border-color: transparent;\n",
              "    border-bottom-color: var(--fill-color);\n",
              "    animation:\n",
              "      spin 1s steps(1) infinite;\n",
              "  }\n",
              "\n",
              "  @keyframes spin {\n",
              "    0% {\n",
              "      border-color: transparent;\n",
              "      border-bottom-color: var(--fill-color);\n",
              "      border-left-color: var(--fill-color);\n",
              "    }\n",
              "    20% {\n",
              "      border-color: transparent;\n",
              "      border-left-color: var(--fill-color);\n",
              "      border-top-color: var(--fill-color);\n",
              "    }\n",
              "    30% {\n",
              "      border-color: transparent;\n",
              "      border-left-color: var(--fill-color);\n",
              "      border-top-color: var(--fill-color);\n",
              "      border-right-color: var(--fill-color);\n",
              "    }\n",
              "    40% {\n",
              "      border-color: transparent;\n",
              "      border-right-color: var(--fill-color);\n",
              "      border-top-color: var(--fill-color);\n",
              "    }\n",
              "    60% {\n",
              "      border-color: transparent;\n",
              "      border-right-color: var(--fill-color);\n",
              "    }\n",
              "    80% {\n",
              "      border-color: transparent;\n",
              "      border-right-color: var(--fill-color);\n",
              "      border-bottom-color: var(--fill-color);\n",
              "    }\n",
              "    90% {\n",
              "      border-color: transparent;\n",
              "      border-bottom-color: var(--fill-color);\n",
              "    }\n",
              "  }\n",
              "</style>\n",
              "\n",
              "  <script>\n",
              "    async function quickchart(key) {\n",
              "      const quickchartButtonEl =\n",
              "        document.querySelector('#' + key + ' button');\n",
              "      quickchartButtonEl.disabled = true;  // To prevent multiple clicks.\n",
              "      quickchartButtonEl.classList.add('colab-df-spinner');\n",
              "      try {\n",
              "        const charts = await google.colab.kernel.invokeFunction(\n",
              "            'suggestCharts', [key], {});\n",
              "      } catch (error) {\n",
              "        console.error('Error during call to suggestCharts:', error);\n",
              "      }\n",
              "      quickchartButtonEl.classList.remove('colab-df-spinner');\n",
              "      quickchartButtonEl.classList.add('colab-df-quickchart-complete');\n",
              "    }\n",
              "    (() => {\n",
              "      let quickchartButtonEl =\n",
              "        document.querySelector('#df-383e3d72-e21d-4acb-a747-4d48c940f8f8 button');\n",
              "      quickchartButtonEl.style.display =\n",
              "        google.colab.kernel.accessAllowed ? 'block' : 'none';\n",
              "    })();\n",
              "  </script>\n",
              "</div>\n",
              "\n",
              "    </div>\n",
              "  </div>\n"
            ],
            "application/vnd.google.colaboratory.intrinsic+json": {
              "type": "dataframe",
              "variable_name": "d"
            }
          },
          "metadata": {},
          "execution_count": 73
        }
      ]
    },
    {
      "cell_type": "markdown",
      "source": [
        "*   **Shape of the dataset**"
      ],
      "metadata": {
        "id": "_pipodB7EIQH"
      }
    },
    {
      "cell_type": "code",
      "source": [
        "d.shape"
      ],
      "metadata": {
        "id": "palBtETdEJAl",
        "colab": {
          "base_uri": "https://localhost:8080/"
        },
        "outputId": "2f313df7-e306-4e49-bbbd-97bb8464c12d"
      },
      "execution_count": 74,
      "outputs": [
        {
          "output_type": "execute_result",
          "data": {
            "text/plain": [
              "(144867, 24)"
            ]
          },
          "metadata": {},
          "execution_count": 74
        }
      ]
    },
    {
      "cell_type": "markdown",
      "source": [
        "1.   The dataset contains 144867 rows ans 24 columns.\n",
        "2.   The dataset contains 24 features with 144867 data points."
      ],
      "metadata": {
        "id": "wGYgvqoZESdx"
      }
    },
    {
      "cell_type": "markdown",
      "source": [
        "*   **Characteristics of the dataset**"
      ],
      "metadata": {
        "id": "P60vCqnUEYkp"
      }
    },
    {
      "cell_type": "code",
      "source": [
        "d.info()"
      ],
      "metadata": {
        "id": "z4Yn80KgnuIw",
        "colab": {
          "base_uri": "https://localhost:8080/"
        },
        "outputId": "42fd3fcb-3dce-4b07-db39-ae6c37aaffad"
      },
      "execution_count": 75,
      "outputs": [
        {
          "output_type": "stream",
          "name": "stdout",
          "text": [
            "<class 'pandas.core.frame.DataFrame'>\n",
            "RangeIndex: 144867 entries, 0 to 144866\n",
            "Data columns (total 24 columns):\n",
            " #   Column                          Non-Null Count   Dtype  \n",
            "---  ------                          --------------   -----  \n",
            " 0   data                            144867 non-null  object \n",
            " 1   trip_creation_time              144867 non-null  object \n",
            " 2   route_schedule_uuid             144867 non-null  object \n",
            " 3   route_type                      144867 non-null  object \n",
            " 4   trip_uuid                       144867 non-null  object \n",
            " 5   source_center                   144867 non-null  object \n",
            " 6   source_name                     144574 non-null  object \n",
            " 7   destination_center              144867 non-null  object \n",
            " 8   destination_name                144606 non-null  object \n",
            " 9   od_start_time                   144867 non-null  object \n",
            " 10  od_end_time                     144867 non-null  object \n",
            " 11  start_scan_to_end_scan          144867 non-null  float64\n",
            " 12  is_cutoff                       144867 non-null  bool   \n",
            " 13  cutoff_factor                   144867 non-null  int64  \n",
            " 14  cutoff_timestamp                144867 non-null  object \n",
            " 15  actual_distance_to_destination  144867 non-null  float64\n",
            " 16  actual_time                     144867 non-null  float64\n",
            " 17  osrm_time                       144867 non-null  float64\n",
            " 18  osrm_distance                   144867 non-null  float64\n",
            " 19  factor                          144867 non-null  float64\n",
            " 20  segment_actual_time             144867 non-null  float64\n",
            " 21  segment_osrm_time               144867 non-null  float64\n",
            " 22  segment_osrm_distance           144867 non-null  float64\n",
            " 23  segment_factor                  144867 non-null  float64\n",
            "dtypes: bool(1), float64(10), int64(1), object(12)\n",
            "memory usage: 25.6+ MB\n"
          ]
        }
      ]
    },
    {
      "cell_type": "markdown",
      "source": [
        "The dataset contains Null or Missing values in 'source_name' and 'destination_name' features."
      ],
      "metadata": {
        "id": "1tI31EO-E4TK"
      }
    },
    {
      "cell_type": "markdown",
      "source": [
        "*   **Dropping features not useful for EDA**"
      ],
      "metadata": {
        "id": "OzBsOkXoGV__"
      }
    },
    {
      "cell_type": "code",
      "source": [
        "d.drop(['data','is_cutoff','cutoff_factor','cutoff_timestamp','factor','segment_factor'],axis=1,inplace=True)"
      ],
      "metadata": {
        "id": "j-08-2-mGf8E"
      },
      "execution_count": 76,
      "outputs": []
    },
    {
      "cell_type": "markdown",
      "source": [
        "*   **Statistical Summary of all the numerical features in dataset**"
      ],
      "metadata": {
        "id": "48VWZjf8GNFF"
      }
    },
    {
      "cell_type": "code",
      "source": [
        "d.describe()"
      ],
      "metadata": {
        "id": "a5QTA2LgGN5K",
        "colab": {
          "base_uri": "https://localhost:8080/",
          "height": 320
        },
        "outputId": "7e630681-530b-4c70-e828-e2fb58bdfdcc"
      },
      "execution_count": 77,
      "outputs": [
        {
          "output_type": "execute_result",
          "data": {
            "text/plain": [
              "       start_scan_to_end_scan  actual_distance_to_destination    actual_time  \\\n",
              "count           144867.000000                   144867.000000  144867.000000   \n",
              "mean               961.262986                      234.073372     416.927527   \n",
              "std               1037.012769                      344.990009     598.103621   \n",
              "min                 20.000000                        9.000045       9.000000   \n",
              "25%                161.000000                       23.355874      51.000000   \n",
              "50%                449.000000                       66.126571     132.000000   \n",
              "75%               1634.000000                      286.708875     513.000000   \n",
              "max               7898.000000                     1927.447705    4532.000000   \n",
              "\n",
              "           osrm_time  osrm_distance  segment_actual_time  segment_osrm_time  \\\n",
              "count  144867.000000  144867.000000        144867.000000      144867.000000   \n",
              "mean      213.868272     284.771297            36.196111          18.507548   \n",
              "std       308.011085     421.119294            53.571158          14.775960   \n",
              "min         6.000000       9.008200          -244.000000           0.000000   \n",
              "25%        27.000000      29.914700            20.000000          11.000000   \n",
              "50%        64.000000      78.525800            29.000000          17.000000   \n",
              "75%       257.000000     343.193250            40.000000          22.000000   \n",
              "max      1686.000000    2326.199100          3051.000000        1611.000000   \n",
              "\n",
              "       segment_osrm_distance  \n",
              "count           144867.00000  \n",
              "mean                22.82902  \n",
              "std                 17.86066  \n",
              "min                  0.00000  \n",
              "25%                 12.07010  \n",
              "50%                 23.51300  \n",
              "75%                 27.81325  \n",
              "max               2191.40370  "
            ],
            "text/html": [
              "\n",
              "  <div id=\"df-3dfac44d-57e7-4d3b-b2eb-38b72a40caa4\" class=\"colab-df-container\">\n",
              "    <div>\n",
              "<style scoped>\n",
              "    .dataframe tbody tr th:only-of-type {\n",
              "        vertical-align: middle;\n",
              "    }\n",
              "\n",
              "    .dataframe tbody tr th {\n",
              "        vertical-align: top;\n",
              "    }\n",
              "\n",
              "    .dataframe thead th {\n",
              "        text-align: right;\n",
              "    }\n",
              "</style>\n",
              "<table border=\"1\" class=\"dataframe\">\n",
              "  <thead>\n",
              "    <tr style=\"text-align: right;\">\n",
              "      <th></th>\n",
              "      <th>start_scan_to_end_scan</th>\n",
              "      <th>actual_distance_to_destination</th>\n",
              "      <th>actual_time</th>\n",
              "      <th>osrm_time</th>\n",
              "      <th>osrm_distance</th>\n",
              "      <th>segment_actual_time</th>\n",
              "      <th>segment_osrm_time</th>\n",
              "      <th>segment_osrm_distance</th>\n",
              "    </tr>\n",
              "  </thead>\n",
              "  <tbody>\n",
              "    <tr>\n",
              "      <th>count</th>\n",
              "      <td>144867.000000</td>\n",
              "      <td>144867.000000</td>\n",
              "      <td>144867.000000</td>\n",
              "      <td>144867.000000</td>\n",
              "      <td>144867.000000</td>\n",
              "      <td>144867.000000</td>\n",
              "      <td>144867.000000</td>\n",
              "      <td>144867.00000</td>\n",
              "    </tr>\n",
              "    <tr>\n",
              "      <th>mean</th>\n",
              "      <td>961.262986</td>\n",
              "      <td>234.073372</td>\n",
              "      <td>416.927527</td>\n",
              "      <td>213.868272</td>\n",
              "      <td>284.771297</td>\n",
              "      <td>36.196111</td>\n",
              "      <td>18.507548</td>\n",
              "      <td>22.82902</td>\n",
              "    </tr>\n",
              "    <tr>\n",
              "      <th>std</th>\n",
              "      <td>1037.012769</td>\n",
              "      <td>344.990009</td>\n",
              "      <td>598.103621</td>\n",
              "      <td>308.011085</td>\n",
              "      <td>421.119294</td>\n",
              "      <td>53.571158</td>\n",
              "      <td>14.775960</td>\n",
              "      <td>17.86066</td>\n",
              "    </tr>\n",
              "    <tr>\n",
              "      <th>min</th>\n",
              "      <td>20.000000</td>\n",
              "      <td>9.000045</td>\n",
              "      <td>9.000000</td>\n",
              "      <td>6.000000</td>\n",
              "      <td>9.008200</td>\n",
              "      <td>-244.000000</td>\n",
              "      <td>0.000000</td>\n",
              "      <td>0.00000</td>\n",
              "    </tr>\n",
              "    <tr>\n",
              "      <th>25%</th>\n",
              "      <td>161.000000</td>\n",
              "      <td>23.355874</td>\n",
              "      <td>51.000000</td>\n",
              "      <td>27.000000</td>\n",
              "      <td>29.914700</td>\n",
              "      <td>20.000000</td>\n",
              "      <td>11.000000</td>\n",
              "      <td>12.07010</td>\n",
              "    </tr>\n",
              "    <tr>\n",
              "      <th>50%</th>\n",
              "      <td>449.000000</td>\n",
              "      <td>66.126571</td>\n",
              "      <td>132.000000</td>\n",
              "      <td>64.000000</td>\n",
              "      <td>78.525800</td>\n",
              "      <td>29.000000</td>\n",
              "      <td>17.000000</td>\n",
              "      <td>23.51300</td>\n",
              "    </tr>\n",
              "    <tr>\n",
              "      <th>75%</th>\n",
              "      <td>1634.000000</td>\n",
              "      <td>286.708875</td>\n",
              "      <td>513.000000</td>\n",
              "      <td>257.000000</td>\n",
              "      <td>343.193250</td>\n",
              "      <td>40.000000</td>\n",
              "      <td>22.000000</td>\n",
              "      <td>27.81325</td>\n",
              "    </tr>\n",
              "    <tr>\n",
              "      <th>max</th>\n",
              "      <td>7898.000000</td>\n",
              "      <td>1927.447705</td>\n",
              "      <td>4532.000000</td>\n",
              "      <td>1686.000000</td>\n",
              "      <td>2326.199100</td>\n",
              "      <td>3051.000000</td>\n",
              "      <td>1611.000000</td>\n",
              "      <td>2191.40370</td>\n",
              "    </tr>\n",
              "  </tbody>\n",
              "</table>\n",
              "</div>\n",
              "    <div class=\"colab-df-buttons\">\n",
              "\n",
              "  <div class=\"colab-df-container\">\n",
              "    <button class=\"colab-df-convert\" onclick=\"convertToInteractive('df-3dfac44d-57e7-4d3b-b2eb-38b72a40caa4')\"\n",
              "            title=\"Convert this dataframe to an interactive table.\"\n",
              "            style=\"display:none;\">\n",
              "\n",
              "  <svg xmlns=\"http://www.w3.org/2000/svg\" height=\"24px\" viewBox=\"0 -960 960 960\">\n",
              "    <path d=\"M120-120v-720h720v720H120Zm60-500h600v-160H180v160Zm220 220h160v-160H400v160Zm0 220h160v-160H400v160ZM180-400h160v-160H180v160Zm440 0h160v-160H620v160ZM180-180h160v-160H180v160Zm440 0h160v-160H620v160Z\"/>\n",
              "  </svg>\n",
              "    </button>\n",
              "\n",
              "  <style>\n",
              "    .colab-df-container {\n",
              "      display:flex;\n",
              "      gap: 12px;\n",
              "    }\n",
              "\n",
              "    .colab-df-convert {\n",
              "      background-color: #E8F0FE;\n",
              "      border: none;\n",
              "      border-radius: 50%;\n",
              "      cursor: pointer;\n",
              "      display: none;\n",
              "      fill: #1967D2;\n",
              "      height: 32px;\n",
              "      padding: 0 0 0 0;\n",
              "      width: 32px;\n",
              "    }\n",
              "\n",
              "    .colab-df-convert:hover {\n",
              "      background-color: #E2EBFA;\n",
              "      box-shadow: 0px 1px 2px rgba(60, 64, 67, 0.3), 0px 1px 3px 1px rgba(60, 64, 67, 0.15);\n",
              "      fill: #174EA6;\n",
              "    }\n",
              "\n",
              "    .colab-df-buttons div {\n",
              "      margin-bottom: 4px;\n",
              "    }\n",
              "\n",
              "    [theme=dark] .colab-df-convert {\n",
              "      background-color: #3B4455;\n",
              "      fill: #D2E3FC;\n",
              "    }\n",
              "\n",
              "    [theme=dark] .colab-df-convert:hover {\n",
              "      background-color: #434B5C;\n",
              "      box-shadow: 0px 1px 3px 1px rgba(0, 0, 0, 0.15);\n",
              "      filter: drop-shadow(0px 1px 2px rgba(0, 0, 0, 0.3));\n",
              "      fill: #FFFFFF;\n",
              "    }\n",
              "  </style>\n",
              "\n",
              "    <script>\n",
              "      const buttonEl =\n",
              "        document.querySelector('#df-3dfac44d-57e7-4d3b-b2eb-38b72a40caa4 button.colab-df-convert');\n",
              "      buttonEl.style.display =\n",
              "        google.colab.kernel.accessAllowed ? 'block' : 'none';\n",
              "\n",
              "      async function convertToInteractive(key) {\n",
              "        const element = document.querySelector('#df-3dfac44d-57e7-4d3b-b2eb-38b72a40caa4');\n",
              "        const dataTable =\n",
              "          await google.colab.kernel.invokeFunction('convertToInteractive',\n",
              "                                                    [key], {});\n",
              "        if (!dataTable) return;\n",
              "\n",
              "        const docLinkHtml = 'Like what you see? Visit the ' +\n",
              "          '<a target=\"_blank\" href=https://colab.research.google.com/notebooks/data_table.ipynb>data table notebook</a>'\n",
              "          + ' to learn more about interactive tables.';\n",
              "        element.innerHTML = '';\n",
              "        dataTable['output_type'] = 'display_data';\n",
              "        await google.colab.output.renderOutput(dataTable, element);\n",
              "        const docLink = document.createElement('div');\n",
              "        docLink.innerHTML = docLinkHtml;\n",
              "        element.appendChild(docLink);\n",
              "      }\n",
              "    </script>\n",
              "  </div>\n",
              "\n",
              "\n",
              "<div id=\"df-f284617f-c89c-4f46-b020-447d620b85c8\">\n",
              "  <button class=\"colab-df-quickchart\" onclick=\"quickchart('df-f284617f-c89c-4f46-b020-447d620b85c8')\"\n",
              "            title=\"Suggest charts\"\n",
              "            style=\"display:none;\">\n",
              "\n",
              "<svg xmlns=\"http://www.w3.org/2000/svg\" height=\"24px\"viewBox=\"0 0 24 24\"\n",
              "     width=\"24px\">\n",
              "    <g>\n",
              "        <path d=\"M19 3H5c-1.1 0-2 .9-2 2v14c0 1.1.9 2 2 2h14c1.1 0 2-.9 2-2V5c0-1.1-.9-2-2-2zM9 17H7v-7h2v7zm4 0h-2V7h2v10zm4 0h-2v-4h2v4z\"/>\n",
              "    </g>\n",
              "</svg>\n",
              "  </button>\n",
              "\n",
              "<style>\n",
              "  .colab-df-quickchart {\n",
              "      --bg-color: #E8F0FE;\n",
              "      --fill-color: #1967D2;\n",
              "      --hover-bg-color: #E2EBFA;\n",
              "      --hover-fill-color: #174EA6;\n",
              "      --disabled-fill-color: #AAA;\n",
              "      --disabled-bg-color: #DDD;\n",
              "  }\n",
              "\n",
              "  [theme=dark] .colab-df-quickchart {\n",
              "      --bg-color: #3B4455;\n",
              "      --fill-color: #D2E3FC;\n",
              "      --hover-bg-color: #434B5C;\n",
              "      --hover-fill-color: #FFFFFF;\n",
              "      --disabled-bg-color: #3B4455;\n",
              "      --disabled-fill-color: #666;\n",
              "  }\n",
              "\n",
              "  .colab-df-quickchart {\n",
              "    background-color: var(--bg-color);\n",
              "    border: none;\n",
              "    border-radius: 50%;\n",
              "    cursor: pointer;\n",
              "    display: none;\n",
              "    fill: var(--fill-color);\n",
              "    height: 32px;\n",
              "    padding: 0;\n",
              "    width: 32px;\n",
              "  }\n",
              "\n",
              "  .colab-df-quickchart:hover {\n",
              "    background-color: var(--hover-bg-color);\n",
              "    box-shadow: 0 1px 2px rgba(60, 64, 67, 0.3), 0 1px 3px 1px rgba(60, 64, 67, 0.15);\n",
              "    fill: var(--button-hover-fill-color);\n",
              "  }\n",
              "\n",
              "  .colab-df-quickchart-complete:disabled,\n",
              "  .colab-df-quickchart-complete:disabled:hover {\n",
              "    background-color: var(--disabled-bg-color);\n",
              "    fill: var(--disabled-fill-color);\n",
              "    box-shadow: none;\n",
              "  }\n",
              "\n",
              "  .colab-df-spinner {\n",
              "    border: 2px solid var(--fill-color);\n",
              "    border-color: transparent;\n",
              "    border-bottom-color: var(--fill-color);\n",
              "    animation:\n",
              "      spin 1s steps(1) infinite;\n",
              "  }\n",
              "\n",
              "  @keyframes spin {\n",
              "    0% {\n",
              "      border-color: transparent;\n",
              "      border-bottom-color: var(--fill-color);\n",
              "      border-left-color: var(--fill-color);\n",
              "    }\n",
              "    20% {\n",
              "      border-color: transparent;\n",
              "      border-left-color: var(--fill-color);\n",
              "      border-top-color: var(--fill-color);\n",
              "    }\n",
              "    30% {\n",
              "      border-color: transparent;\n",
              "      border-left-color: var(--fill-color);\n",
              "      border-top-color: var(--fill-color);\n",
              "      border-right-color: var(--fill-color);\n",
              "    }\n",
              "    40% {\n",
              "      border-color: transparent;\n",
              "      border-right-color: var(--fill-color);\n",
              "      border-top-color: var(--fill-color);\n",
              "    }\n",
              "    60% {\n",
              "      border-color: transparent;\n",
              "      border-right-color: var(--fill-color);\n",
              "    }\n",
              "    80% {\n",
              "      border-color: transparent;\n",
              "      border-right-color: var(--fill-color);\n",
              "      border-bottom-color: var(--fill-color);\n",
              "    }\n",
              "    90% {\n",
              "      border-color: transparent;\n",
              "      border-bottom-color: var(--fill-color);\n",
              "    }\n",
              "  }\n",
              "</style>\n",
              "\n",
              "  <script>\n",
              "    async function quickchart(key) {\n",
              "      const quickchartButtonEl =\n",
              "        document.querySelector('#' + key + ' button');\n",
              "      quickchartButtonEl.disabled = true;  // To prevent multiple clicks.\n",
              "      quickchartButtonEl.classList.add('colab-df-spinner');\n",
              "      try {\n",
              "        const charts = await google.colab.kernel.invokeFunction(\n",
              "            'suggestCharts', [key], {});\n",
              "      } catch (error) {\n",
              "        console.error('Error during call to suggestCharts:', error);\n",
              "      }\n",
              "      quickchartButtonEl.classList.remove('colab-df-spinner');\n",
              "      quickchartButtonEl.classList.add('colab-df-quickchart-complete');\n",
              "    }\n",
              "    (() => {\n",
              "      let quickchartButtonEl =\n",
              "        document.querySelector('#df-f284617f-c89c-4f46-b020-447d620b85c8 button');\n",
              "      quickchartButtonEl.style.display =\n",
              "        google.colab.kernel.accessAllowed ? 'block' : 'none';\n",
              "    })();\n",
              "  </script>\n",
              "</div>\n",
              "\n",
              "    </div>\n",
              "  </div>\n"
            ],
            "application/vnd.google.colaboratory.intrinsic+json": {
              "type": "dataframe",
              "summary": "{\n  \"name\": \"d\",\n  \"rows\": 8,\n  \"fields\": [\n    {\n      \"column\": \"start_scan_to_end_scan\",\n      \"properties\": {\n        \"dtype\": \"number\",\n        \"std\": 50669.13363974827,\n        \"min\": 20.0,\n        \"max\": 144867.0,\n        \"num_unique_values\": 8,\n        \"samples\": [\n          961.2629860492727,\n          449.0,\n          144867.0\n        ],\n        \"semantic_type\": \"\",\n        \"description\": \"\"\n      }\n    },\n    {\n      \"column\": \"actual_distance_to_destination\",\n      \"properties\": {\n        \"dtype\": \"number\",\n        \"std\": 51076.056012537076,\n        \"min\": 9.00004535977208,\n        \"max\": 144867.0,\n        \"num_unique_values\": 8,\n        \"samples\": [\n          234.07337161811876,\n          66.12657071764777,\n          144867.0\n        ],\n        \"semantic_type\": \"\",\n        \"description\": \"\"\n      }\n    },\n    {\n      \"column\": \"actual_time\",\n      \"properties\": {\n        \"dtype\": \"number\",\n        \"std\": 50924.56795190994,\n        \"min\": 9.0,\n        \"max\": 144867.0,\n        \"num_unique_values\": 8,\n        \"samples\": [\n          416.92752662787245,\n          132.0,\n          144867.0\n        ],\n        \"semantic_type\": \"\",\n        \"description\": \"\"\n      }\n    },\n    {\n      \"column\": \"osrm_time\",\n      \"properties\": {\n        \"dtype\": \"number\",\n        \"std\": 51091.78365158944,\n        \"min\": 6.0,\n        \"max\": 144867.0,\n        \"num_unique_values\": 8,\n        \"samples\": [\n          213.86827227733025,\n          64.0,\n          144867.0\n        ],\n        \"semantic_type\": \"\",\n        \"description\": \"\"\n      }\n    },\n    {\n      \"column\": \"osrm_distance\",\n      \"properties\": {\n        \"dtype\": \"number\",\n        \"std\": 51047.4793064438,\n        \"min\": 9.0082,\n        \"max\": 144867.0,\n        \"num_unique_values\": 8,\n        \"samples\": [\n          284.7712965174954,\n          78.5258,\n          144867.0\n        ],\n        \"semantic_type\": \"\",\n        \"description\": \"\"\n      }\n    },\n    {\n      \"column\": \"segment_actual_time\",\n      \"properties\": {\n        \"dtype\": \"number\",\n        \"std\": 51078.74557749331,\n        \"min\": -244.0,\n        \"max\": 144867.0,\n        \"num_unique_values\": 8,\n        \"samples\": [\n          36.19611091552942,\n          29.0,\n          144867.0\n        ],\n        \"semantic_type\": \"\",\n        \"description\": \"\"\n      }\n    },\n    {\n      \"column\": \"segment_osrm_time\",\n      \"properties\": {\n        \"dtype\": \"number\",\n        \"std\": 51135.69935115409,\n        \"min\": 0.0,\n        \"max\": 144867.0,\n        \"num_unique_values\": 8,\n        \"samples\": [\n          18.507548302926132,\n          17.0,\n          144867.0\n        ],\n        \"semantic_type\": \"\",\n        \"description\": \"\"\n      }\n    },\n    {\n      \"column\": \"segment_osrm_distance\",\n      \"properties\": {\n        \"dtype\": \"number\",\n        \"std\": 51107.94242654291,\n        \"min\": 0.0,\n        \"max\": 144867.0,\n        \"num_unique_values\": 8,\n        \"samples\": [\n          22.829019768477295,\n          23.513,\n          144867.0\n        ],\n        \"semantic_type\": \"\",\n        \"description\": \"\"\n      }\n    }\n  ]\n}"
            }
          },
          "metadata": {},
          "execution_count": 77
        }
      ]
    },
    {
      "cell_type": "markdown",
      "source": [
        "*   **Converting date/time column into pandas date/time**"
      ],
      "metadata": {
        "id": "xxzcHV7Z_l1i"
      }
    },
    {
      "cell_type": "code",
      "source": [
        "d['trip_creation_time']=pd.to_datetime(d['trip_creation_time'])\n",
        "d['od_start_time']=pd.to_datetime(d['od_start_time'])\n",
        "d['od_end_time']=pd.to_datetime(d['od_end_time'])"
      ],
      "metadata": {
        "id": "S30p-bGAl8Sh"
      },
      "execution_count": 78,
      "outputs": []
    },
    {
      "cell_type": "markdown",
      "source": [
        "*   **Removing Null values**"
      ],
      "metadata": {
        "id": "REfqhGA0SCiP"
      }
    },
    {
      "cell_type": "code",
      "source": [
        "d.dropna(inplace=True)\n",
        "d=d.reset_index(drop=True)"
      ],
      "metadata": {
        "id": "tJejLmAPSM_w"
      },
      "execution_count": 79,
      "outputs": []
    },
    {
      "cell_type": "markdown",
      "source": [
        "* **Merging Rows**  "
      ],
      "metadata": {
        "id": "wzTxoApOTgeV"
      }
    },
    {
      "cell_type": "code",
      "source": [
        "d['segment_key']=d['trip_uuid']+d['source_center']+d['destination_center']\n",
        "d['segment_actual_time_sum']=d.groupby('segment_key')['segment_actual_time'].transform('cumsum')\n",
        "d['segment_osrm_distance_sum']=d.groupby('segment_key')['segment_osrm_distance'].transform('cumsum')\n",
        "d['segment_osrm_time_sum']=d.groupby('segment_key')['segment_osrm_time'].transform('cumsum')"
      ],
      "metadata": {
        "id": "y-10IpsfiYJR"
      },
      "execution_count": 80,
      "outputs": []
    },
    {
      "cell_type": "markdown",
      "source": [
        "*   **Grouping data based on the 'segement_key'**"
      ],
      "metadata": {
        "id": "esEpkbuUDyWH"
      }
    },
    {
      "cell_type": "code",
      "source": [
        "create_segment_dict={\n",
        "    'trip_creation_time':'first',\n",
        "    'route_schedule_uuid':'first',\n",
        "    'route_type':'first',\n",
        "    'trip_uuid':'first',\n",
        "    'source_center':'first',\n",
        "    'source_name':'first',\n",
        "    'destination_center':'last',\n",
        "    'destination_name':'last',\n",
        "    'od_start_time':'min',\n",
        "    'od_end_time':'max',\n",
        "    'start_scan_to_end_scan':'first',\n",
        "    'actual_distance_to_destination':'last',\n",
        "    'actual_time':'last',\n",
        "    'osrm_time':'last',\n",
        "    'osrm_distance':'last',\n",
        "    'segment_actual_time_sum':'last',\n",
        "    'segment_osrm_distance_sum':'last',\n",
        "    'segment_osrm_time_sum':'last'\n",
        "}"
      ],
      "metadata": {
        "id": "d2zFvt9Miz6U"
      },
      "execution_count": 81,
      "outputs": []
    },
    {
      "cell_type": "code",
      "source": [
        "d=d.groupby('segment_key').agg(create_segment_dict).reset_index()\n",
        "d=d.sort_values(by=['segment_key','od_end_time'])"
      ],
      "metadata": {
        "id": "Efzw5zcUm0D3"
      },
      "execution_count": 82,
      "outputs": []
    },
    {
      "cell_type": "code",
      "source": [
        "d.head()"
      ],
      "metadata": {
        "colab": {
          "base_uri": "https://localhost:8080/",
          "height": 400
        },
        "id": "ld26syYUxqzQ",
        "outputId": "61e9923c-92e8-4ea1-ac0c-363a62a395f7"
      },
      "execution_count": 83,
      "outputs": [
        {
          "output_type": "execute_result",
          "data": {
            "text/plain": [
              "                                       segment_key         trip_creation_time  \\\n",
              "0  trip-153671041653548748IND209304AAAIND000000ACB 2018-09-12 00:00:16.535741   \n",
              "1  trip-153671041653548748IND462022AAAIND209304AAA 2018-09-12 00:00:16.535741   \n",
              "2  trip-153671042288605164IND561203AABIND562101AAA 2018-09-12 00:00:22.886430   \n",
              "3  trip-153671042288605164IND572101AAAIND561203AAB 2018-09-12 00:00:22.886430   \n",
              "4  trip-153671043369099517IND000000ACBIND160002AAC 2018-09-12 00:00:33.691250   \n",
              "\n",
              "                                 route_schedule_uuid route_type  \\\n",
              "0  thanos::sroute:d7c989ba-a29b-4a0b-b2f4-288cdc6...        FTL   \n",
              "1  thanos::sroute:d7c989ba-a29b-4a0b-b2f4-288cdc6...        FTL   \n",
              "2  thanos::sroute:3a1b0ab2-bb0b-4c53-8c59-eb2a2c0...    Carting   \n",
              "3  thanos::sroute:3a1b0ab2-bb0b-4c53-8c59-eb2a2c0...    Carting   \n",
              "4  thanos::sroute:de5e208e-7641-45e6-8100-4d9fb1e...        FTL   \n",
              "\n",
              "                 trip_uuid source_center                         source_name  \\\n",
              "0  trip-153671041653548748  IND209304AAA  Kanpur_Central_H_6 (Uttar Pradesh)   \n",
              "1  trip-153671041653548748  IND462022AAA  Bhopal_Trnsport_H (Madhya Pradesh)   \n",
              "2  trip-153671042288605164  IND561203AAB   Doddablpur_ChikaDPP_D (Karnataka)   \n",
              "3  trip-153671042288605164  IND572101AAA       Tumkur_Veersagr_I (Karnataka)   \n",
              "4  trip-153671043369099517  IND000000ACB       Gurgaon_Bilaspur_HB (Haryana)   \n",
              "\n",
              "  destination_center                    destination_name  \\\n",
              "0       IND000000ACB       Gurgaon_Bilaspur_HB (Haryana)   \n",
              "1       IND209304AAA  Kanpur_Central_H_6 (Uttar Pradesh)   \n",
              "2       IND562101AAA   Chikblapur_ShntiSgr_D (Karnataka)   \n",
              "3       IND561203AAB   Doddablpur_ChikaDPP_D (Karnataka)   \n",
              "4       IND160002AAC      Chandigarh_Mehmdpur_H (Punjab)   \n",
              "\n",
              "               od_start_time                od_end_time  \\\n",
              "0 2018-09-12 16:39:46.858469 2018-09-13 13:40:23.123744   \n",
              "1 2018-09-12 00:00:16.535741 2018-09-12 16:39:46.858469   \n",
              "2 2018-09-12 02:03:09.655591 2018-09-12 03:01:59.598855   \n",
              "3 2018-09-12 00:00:22.886430 2018-09-12 02:03:09.655591   \n",
              "4 2018-09-14 03:40:17.106733 2018-09-14 17:34:55.442454   \n",
              "\n",
              "   start_scan_to_end_scan  actual_distance_to_destination  actual_time  \\\n",
              "0                  1260.0                      383.759164        732.0   \n",
              "1                   999.0                      440.973689        830.0   \n",
              "2                    58.0                       24.644021         47.0   \n",
              "3                   122.0                       48.542890         96.0   \n",
              "4                   834.0                      237.439610        611.0   \n",
              "\n",
              "   osrm_time  osrm_distance  segment_actual_time_sum  \\\n",
              "0      329.0       446.5496                    728.0   \n",
              "1      388.0       544.8027                    820.0   \n",
              "2       26.0        28.1994                     46.0   \n",
              "3       42.0        56.9116                     95.0   \n",
              "4      212.0       281.2109                    608.0   \n",
              "\n",
              "   segment_osrm_distance_sum  segment_osrm_time_sum  \n",
              "0                   670.6205                  534.0  \n",
              "1                   649.8528                  474.0  \n",
              "2                    28.1995                   26.0  \n",
              "3                    55.9899                   39.0  \n",
              "4                   317.7408                  231.0  "
            ],
            "text/html": [
              "\n",
              "  <div id=\"df-4e41f64f-ccd7-4f83-98b2-828e3ab3ee8c\" class=\"colab-df-container\">\n",
              "    <div>\n",
              "<style scoped>\n",
              "    .dataframe tbody tr th:only-of-type {\n",
              "        vertical-align: middle;\n",
              "    }\n",
              "\n",
              "    .dataframe tbody tr th {\n",
              "        vertical-align: top;\n",
              "    }\n",
              "\n",
              "    .dataframe thead th {\n",
              "        text-align: right;\n",
              "    }\n",
              "</style>\n",
              "<table border=\"1\" class=\"dataframe\">\n",
              "  <thead>\n",
              "    <tr style=\"text-align: right;\">\n",
              "      <th></th>\n",
              "      <th>segment_key</th>\n",
              "      <th>trip_creation_time</th>\n",
              "      <th>route_schedule_uuid</th>\n",
              "      <th>route_type</th>\n",
              "      <th>trip_uuid</th>\n",
              "      <th>source_center</th>\n",
              "      <th>source_name</th>\n",
              "      <th>destination_center</th>\n",
              "      <th>destination_name</th>\n",
              "      <th>od_start_time</th>\n",
              "      <th>od_end_time</th>\n",
              "      <th>start_scan_to_end_scan</th>\n",
              "      <th>actual_distance_to_destination</th>\n",
              "      <th>actual_time</th>\n",
              "      <th>osrm_time</th>\n",
              "      <th>osrm_distance</th>\n",
              "      <th>segment_actual_time_sum</th>\n",
              "      <th>segment_osrm_distance_sum</th>\n",
              "      <th>segment_osrm_time_sum</th>\n",
              "    </tr>\n",
              "  </thead>\n",
              "  <tbody>\n",
              "    <tr>\n",
              "      <th>0</th>\n",
              "      <td>trip-153671041653548748IND209304AAAIND000000ACB</td>\n",
              "      <td>2018-09-12 00:00:16.535741</td>\n",
              "      <td>thanos::sroute:d7c989ba-a29b-4a0b-b2f4-288cdc6...</td>\n",
              "      <td>FTL</td>\n",
              "      <td>trip-153671041653548748</td>\n",
              "      <td>IND209304AAA</td>\n",
              "      <td>Kanpur_Central_H_6 (Uttar Pradesh)</td>\n",
              "      <td>IND000000ACB</td>\n",
              "      <td>Gurgaon_Bilaspur_HB (Haryana)</td>\n",
              "      <td>2018-09-12 16:39:46.858469</td>\n",
              "      <td>2018-09-13 13:40:23.123744</td>\n",
              "      <td>1260.0</td>\n",
              "      <td>383.759164</td>\n",
              "      <td>732.0</td>\n",
              "      <td>329.0</td>\n",
              "      <td>446.5496</td>\n",
              "      <td>728.0</td>\n",
              "      <td>670.6205</td>\n",
              "      <td>534.0</td>\n",
              "    </tr>\n",
              "    <tr>\n",
              "      <th>1</th>\n",
              "      <td>trip-153671041653548748IND462022AAAIND209304AAA</td>\n",
              "      <td>2018-09-12 00:00:16.535741</td>\n",
              "      <td>thanos::sroute:d7c989ba-a29b-4a0b-b2f4-288cdc6...</td>\n",
              "      <td>FTL</td>\n",
              "      <td>trip-153671041653548748</td>\n",
              "      <td>IND462022AAA</td>\n",
              "      <td>Bhopal_Trnsport_H (Madhya Pradesh)</td>\n",
              "      <td>IND209304AAA</td>\n",
              "      <td>Kanpur_Central_H_6 (Uttar Pradesh)</td>\n",
              "      <td>2018-09-12 00:00:16.535741</td>\n",
              "      <td>2018-09-12 16:39:46.858469</td>\n",
              "      <td>999.0</td>\n",
              "      <td>440.973689</td>\n",
              "      <td>830.0</td>\n",
              "      <td>388.0</td>\n",
              "      <td>544.8027</td>\n",
              "      <td>820.0</td>\n",
              "      <td>649.8528</td>\n",
              "      <td>474.0</td>\n",
              "    </tr>\n",
              "    <tr>\n",
              "      <th>2</th>\n",
              "      <td>trip-153671042288605164IND561203AABIND562101AAA</td>\n",
              "      <td>2018-09-12 00:00:22.886430</td>\n",
              "      <td>thanos::sroute:3a1b0ab2-bb0b-4c53-8c59-eb2a2c0...</td>\n",
              "      <td>Carting</td>\n",
              "      <td>trip-153671042288605164</td>\n",
              "      <td>IND561203AAB</td>\n",
              "      <td>Doddablpur_ChikaDPP_D (Karnataka)</td>\n",
              "      <td>IND562101AAA</td>\n",
              "      <td>Chikblapur_ShntiSgr_D (Karnataka)</td>\n",
              "      <td>2018-09-12 02:03:09.655591</td>\n",
              "      <td>2018-09-12 03:01:59.598855</td>\n",
              "      <td>58.0</td>\n",
              "      <td>24.644021</td>\n",
              "      <td>47.0</td>\n",
              "      <td>26.0</td>\n",
              "      <td>28.1994</td>\n",
              "      <td>46.0</td>\n",
              "      <td>28.1995</td>\n",
              "      <td>26.0</td>\n",
              "    </tr>\n",
              "    <tr>\n",
              "      <th>3</th>\n",
              "      <td>trip-153671042288605164IND572101AAAIND561203AAB</td>\n",
              "      <td>2018-09-12 00:00:22.886430</td>\n",
              "      <td>thanos::sroute:3a1b0ab2-bb0b-4c53-8c59-eb2a2c0...</td>\n",
              "      <td>Carting</td>\n",
              "      <td>trip-153671042288605164</td>\n",
              "      <td>IND572101AAA</td>\n",
              "      <td>Tumkur_Veersagr_I (Karnataka)</td>\n",
              "      <td>IND561203AAB</td>\n",
              "      <td>Doddablpur_ChikaDPP_D (Karnataka)</td>\n",
              "      <td>2018-09-12 00:00:22.886430</td>\n",
              "      <td>2018-09-12 02:03:09.655591</td>\n",
              "      <td>122.0</td>\n",
              "      <td>48.542890</td>\n",
              "      <td>96.0</td>\n",
              "      <td>42.0</td>\n",
              "      <td>56.9116</td>\n",
              "      <td>95.0</td>\n",
              "      <td>55.9899</td>\n",
              "      <td>39.0</td>\n",
              "    </tr>\n",
              "    <tr>\n",
              "      <th>4</th>\n",
              "      <td>trip-153671043369099517IND000000ACBIND160002AAC</td>\n",
              "      <td>2018-09-12 00:00:33.691250</td>\n",
              "      <td>thanos::sroute:de5e208e-7641-45e6-8100-4d9fb1e...</td>\n",
              "      <td>FTL</td>\n",
              "      <td>trip-153671043369099517</td>\n",
              "      <td>IND000000ACB</td>\n",
              "      <td>Gurgaon_Bilaspur_HB (Haryana)</td>\n",
              "      <td>IND160002AAC</td>\n",
              "      <td>Chandigarh_Mehmdpur_H (Punjab)</td>\n",
              "      <td>2018-09-14 03:40:17.106733</td>\n",
              "      <td>2018-09-14 17:34:55.442454</td>\n",
              "      <td>834.0</td>\n",
              "      <td>237.439610</td>\n",
              "      <td>611.0</td>\n",
              "      <td>212.0</td>\n",
              "      <td>281.2109</td>\n",
              "      <td>608.0</td>\n",
              "      <td>317.7408</td>\n",
              "      <td>231.0</td>\n",
              "    </tr>\n",
              "  </tbody>\n",
              "</table>\n",
              "</div>\n",
              "    <div class=\"colab-df-buttons\">\n",
              "\n",
              "  <div class=\"colab-df-container\">\n",
              "    <button class=\"colab-df-convert\" onclick=\"convertToInteractive('df-4e41f64f-ccd7-4f83-98b2-828e3ab3ee8c')\"\n",
              "            title=\"Convert this dataframe to an interactive table.\"\n",
              "            style=\"display:none;\">\n",
              "\n",
              "  <svg xmlns=\"http://www.w3.org/2000/svg\" height=\"24px\" viewBox=\"0 -960 960 960\">\n",
              "    <path d=\"M120-120v-720h720v720H120Zm60-500h600v-160H180v160Zm220 220h160v-160H400v160Zm0 220h160v-160H400v160ZM180-400h160v-160H180v160Zm440 0h160v-160H620v160ZM180-180h160v-160H180v160Zm440 0h160v-160H620v160Z\"/>\n",
              "  </svg>\n",
              "    </button>\n",
              "\n",
              "  <style>\n",
              "    .colab-df-container {\n",
              "      display:flex;\n",
              "      gap: 12px;\n",
              "    }\n",
              "\n",
              "    .colab-df-convert {\n",
              "      background-color: #E8F0FE;\n",
              "      border: none;\n",
              "      border-radius: 50%;\n",
              "      cursor: pointer;\n",
              "      display: none;\n",
              "      fill: #1967D2;\n",
              "      height: 32px;\n",
              "      padding: 0 0 0 0;\n",
              "      width: 32px;\n",
              "    }\n",
              "\n",
              "    .colab-df-convert:hover {\n",
              "      background-color: #E2EBFA;\n",
              "      box-shadow: 0px 1px 2px rgba(60, 64, 67, 0.3), 0px 1px 3px 1px rgba(60, 64, 67, 0.15);\n",
              "      fill: #174EA6;\n",
              "    }\n",
              "\n",
              "    .colab-df-buttons div {\n",
              "      margin-bottom: 4px;\n",
              "    }\n",
              "\n",
              "    [theme=dark] .colab-df-convert {\n",
              "      background-color: #3B4455;\n",
              "      fill: #D2E3FC;\n",
              "    }\n",
              "\n",
              "    [theme=dark] .colab-df-convert:hover {\n",
              "      background-color: #434B5C;\n",
              "      box-shadow: 0px 1px 3px 1px rgba(0, 0, 0, 0.15);\n",
              "      filter: drop-shadow(0px 1px 2px rgba(0, 0, 0, 0.3));\n",
              "      fill: #FFFFFF;\n",
              "    }\n",
              "  </style>\n",
              "\n",
              "    <script>\n",
              "      const buttonEl =\n",
              "        document.querySelector('#df-4e41f64f-ccd7-4f83-98b2-828e3ab3ee8c button.colab-df-convert');\n",
              "      buttonEl.style.display =\n",
              "        google.colab.kernel.accessAllowed ? 'block' : 'none';\n",
              "\n",
              "      async function convertToInteractive(key) {\n",
              "        const element = document.querySelector('#df-4e41f64f-ccd7-4f83-98b2-828e3ab3ee8c');\n",
              "        const dataTable =\n",
              "          await google.colab.kernel.invokeFunction('convertToInteractive',\n",
              "                                                    [key], {});\n",
              "        if (!dataTable) return;\n",
              "\n",
              "        const docLinkHtml = 'Like what you see? Visit the ' +\n",
              "          '<a target=\"_blank\" href=https://colab.research.google.com/notebooks/data_table.ipynb>data table notebook</a>'\n",
              "          + ' to learn more about interactive tables.';\n",
              "        element.innerHTML = '';\n",
              "        dataTable['output_type'] = 'display_data';\n",
              "        await google.colab.output.renderOutput(dataTable, element);\n",
              "        const docLink = document.createElement('div');\n",
              "        docLink.innerHTML = docLinkHtml;\n",
              "        element.appendChild(docLink);\n",
              "      }\n",
              "    </script>\n",
              "  </div>\n",
              "\n",
              "\n",
              "<div id=\"df-b9453587-7092-4e80-9928-454244bed3de\">\n",
              "  <button class=\"colab-df-quickchart\" onclick=\"quickchart('df-b9453587-7092-4e80-9928-454244bed3de')\"\n",
              "            title=\"Suggest charts\"\n",
              "            style=\"display:none;\">\n",
              "\n",
              "<svg xmlns=\"http://www.w3.org/2000/svg\" height=\"24px\"viewBox=\"0 0 24 24\"\n",
              "     width=\"24px\">\n",
              "    <g>\n",
              "        <path d=\"M19 3H5c-1.1 0-2 .9-2 2v14c0 1.1.9 2 2 2h14c1.1 0 2-.9 2-2V5c0-1.1-.9-2-2-2zM9 17H7v-7h2v7zm4 0h-2V7h2v10zm4 0h-2v-4h2v4z\"/>\n",
              "    </g>\n",
              "</svg>\n",
              "  </button>\n",
              "\n",
              "<style>\n",
              "  .colab-df-quickchart {\n",
              "      --bg-color: #E8F0FE;\n",
              "      --fill-color: #1967D2;\n",
              "      --hover-bg-color: #E2EBFA;\n",
              "      --hover-fill-color: #174EA6;\n",
              "      --disabled-fill-color: #AAA;\n",
              "      --disabled-bg-color: #DDD;\n",
              "  }\n",
              "\n",
              "  [theme=dark] .colab-df-quickchart {\n",
              "      --bg-color: #3B4455;\n",
              "      --fill-color: #D2E3FC;\n",
              "      --hover-bg-color: #434B5C;\n",
              "      --hover-fill-color: #FFFFFF;\n",
              "      --disabled-bg-color: #3B4455;\n",
              "      --disabled-fill-color: #666;\n",
              "  }\n",
              "\n",
              "  .colab-df-quickchart {\n",
              "    background-color: var(--bg-color);\n",
              "    border: none;\n",
              "    border-radius: 50%;\n",
              "    cursor: pointer;\n",
              "    display: none;\n",
              "    fill: var(--fill-color);\n",
              "    height: 32px;\n",
              "    padding: 0;\n",
              "    width: 32px;\n",
              "  }\n",
              "\n",
              "  .colab-df-quickchart:hover {\n",
              "    background-color: var(--hover-bg-color);\n",
              "    box-shadow: 0 1px 2px rgba(60, 64, 67, 0.3), 0 1px 3px 1px rgba(60, 64, 67, 0.15);\n",
              "    fill: var(--button-hover-fill-color);\n",
              "  }\n",
              "\n",
              "  .colab-df-quickchart-complete:disabled,\n",
              "  .colab-df-quickchart-complete:disabled:hover {\n",
              "    background-color: var(--disabled-bg-color);\n",
              "    fill: var(--disabled-fill-color);\n",
              "    box-shadow: none;\n",
              "  }\n",
              "\n",
              "  .colab-df-spinner {\n",
              "    border: 2px solid var(--fill-color);\n",
              "    border-color: transparent;\n",
              "    border-bottom-color: var(--fill-color);\n",
              "    animation:\n",
              "      spin 1s steps(1) infinite;\n",
              "  }\n",
              "\n",
              "  @keyframes spin {\n",
              "    0% {\n",
              "      border-color: transparent;\n",
              "      border-bottom-color: var(--fill-color);\n",
              "      border-left-color: var(--fill-color);\n",
              "    }\n",
              "    20% {\n",
              "      border-color: transparent;\n",
              "      border-left-color: var(--fill-color);\n",
              "      border-top-color: var(--fill-color);\n",
              "    }\n",
              "    30% {\n",
              "      border-color: transparent;\n",
              "      border-left-color: var(--fill-color);\n",
              "      border-top-color: var(--fill-color);\n",
              "      border-right-color: var(--fill-color);\n",
              "    }\n",
              "    40% {\n",
              "      border-color: transparent;\n",
              "      border-right-color: var(--fill-color);\n",
              "      border-top-color: var(--fill-color);\n",
              "    }\n",
              "    60% {\n",
              "      border-color: transparent;\n",
              "      border-right-color: var(--fill-color);\n",
              "    }\n",
              "    80% {\n",
              "      border-color: transparent;\n",
              "      border-right-color: var(--fill-color);\n",
              "      border-bottom-color: var(--fill-color);\n",
              "    }\n",
              "    90% {\n",
              "      border-color: transparent;\n",
              "      border-bottom-color: var(--fill-color);\n",
              "    }\n",
              "  }\n",
              "</style>\n",
              "\n",
              "  <script>\n",
              "    async function quickchart(key) {\n",
              "      const quickchartButtonEl =\n",
              "        document.querySelector('#' + key + ' button');\n",
              "      quickchartButtonEl.disabled = true;  // To prevent multiple clicks.\n",
              "      quickchartButtonEl.classList.add('colab-df-spinner');\n",
              "      try {\n",
              "        const charts = await google.colab.kernel.invokeFunction(\n",
              "            'suggestCharts', [key], {});\n",
              "      } catch (error) {\n",
              "        console.error('Error during call to suggestCharts:', error);\n",
              "      }\n",
              "      quickchartButtonEl.classList.remove('colab-df-spinner');\n",
              "      quickchartButtonEl.classList.add('colab-df-quickchart-complete');\n",
              "    }\n",
              "    (() => {\n",
              "      let quickchartButtonEl =\n",
              "        document.querySelector('#df-b9453587-7092-4e80-9928-454244bed3de button');\n",
              "      quickchartButtonEl.style.display =\n",
              "        google.colab.kernel.accessAllowed ? 'block' : 'none';\n",
              "    })();\n",
              "  </script>\n",
              "</div>\n",
              "\n",
              "    </div>\n",
              "  </div>\n"
            ],
            "application/vnd.google.colaboratory.intrinsic+json": {
              "type": "dataframe",
              "variable_name": "d",
              "summary": "{\n  \"name\": \"d\",\n  \"rows\": 26222,\n  \"fields\": [\n    {\n      \"column\": \"segment_key\",\n      \"properties\": {\n        \"dtype\": \"string\",\n        \"num_unique_values\": 26222,\n        \"samples\": [\n          \"trip-153753822247681124IND000000AALIND411033AAA\",\n          \"trip-153703052434656818IND302014AAAIND000000ACB\",\n          \"trip-153767191928611549IND721133AAAIND721434AAB\"\n        ],\n        \"semantic_type\": \"\",\n        \"description\": \"\"\n      }\n    },\n    {\n      \"column\": \"trip_creation_time\",\n      \"properties\": {\n        \"dtype\": \"date\",\n        \"min\": \"2018-09-12 00:00:16.535741\",\n        \"max\": \"2018-10-03 23:59:42.701692\",\n        \"num_unique_values\": 14787,\n        \"samples\": [\n          \"2018-09-26 17:50:27.589424\",\n          \"2018-09-19 18:18:25.743990\",\n          \"2018-09-17 05:32:36.314228\"\n        ],\n        \"semantic_type\": \"\",\n        \"description\": \"\"\n      }\n    },\n    {\n      \"column\": \"route_schedule_uuid\",\n      \"properties\": {\n        \"dtype\": \"category\",\n        \"num_unique_values\": 1497,\n        \"samples\": [\n          \"thanos::sroute:402604bf-e4e3-4723-85ae-a3a46a73f2ed\",\n          \"thanos::sroute:16f438c4-c258-4955-8358-bdb1e256f1dc\",\n          \"thanos::sroute:f8c763e8-4254-4781-b117-e7cde70e55d4\"\n        ],\n        \"semantic_type\": \"\",\n        \"description\": \"\"\n      }\n    },\n    {\n      \"column\": \"route_type\",\n      \"properties\": {\n        \"dtype\": \"category\",\n        \"num_unique_values\": 2,\n        \"samples\": [\n          \"Carting\",\n          \"FTL\"\n        ],\n        \"semantic_type\": \"\",\n        \"description\": \"\"\n      }\n    },\n    {\n      \"column\": \"trip_uuid\",\n      \"properties\": {\n        \"dtype\": \"string\",\n        \"num_unique_values\": 14787,\n        \"samples\": [\n          \"trip-153798422758908322\",\n          \"trip-153738110574360102\"\n        ],\n        \"semantic_type\": \"\",\n        \"description\": \"\"\n      }\n    },\n    {\n      \"column\": \"source_center\",\n      \"properties\": {\n        \"dtype\": \"category\",\n        \"num_unique_values\": 1496,\n        \"samples\": [\n          \"IND563131AAB\",\n          \"IND400016AAA\"\n        ],\n        \"semantic_type\": \"\",\n        \"description\": \"\"\n      }\n    },\n    {\n      \"column\": \"source_name\",\n      \"properties\": {\n        \"dtype\": \"category\",\n        \"num_unique_values\": 1496,\n        \"samples\": [\n          \"Bangarapet_KolarRd_D (Karnataka)\",\n          \"Mumbai Mahim (Maharashtra)\"\n        ],\n        \"semantic_type\": \"\",\n        \"description\": \"\"\n      }\n    },\n    {\n      \"column\": \"destination_center\",\n      \"properties\": {\n        \"dtype\": \"category\",\n        \"num_unique_values\": 1466,\n        \"samples\": [\n          \"IND273303AAA\",\n          \"IND723130AAA\"\n        ],\n        \"semantic_type\": \"\",\n        \"description\": \"\"\n      }\n    },\n    {\n      \"column\": \"destination_name\",\n      \"properties\": {\n        \"dtype\": \"category\",\n        \"num_unique_values\": 1466,\n        \"samples\": [\n          \"Maharajganj_PakriDPP_D (Uttar Pradesh)\",\n          \"Hura_Central_D_1 (West Bengal)\"\n        ],\n        \"semantic_type\": \"\",\n        \"description\": \"\"\n      }\n    },\n    {\n      \"column\": \"od_start_time\",\n      \"properties\": {\n        \"dtype\": \"date\",\n        \"min\": \"2018-09-12 00:00:16.535741\",\n        \"max\": \"2018-10-06 04:27:23.392375\",\n        \"num_unique_values\": 26222,\n        \"samples\": [\n          \"2018-09-21 13:57:02.477063\",\n          \"2018-09-15 16:55:24.346802\"\n        ],\n        \"semantic_type\": \"\",\n        \"description\": \"\"\n      }\n    },\n    {\n      \"column\": \"od_end_time\",\n      \"properties\": {\n        \"dtype\": \"date\",\n        \"min\": \"2018-09-12 00:50:10.814399\",\n        \"max\": \"2018-10-08 03:00:24.353479\",\n        \"num_unique_values\": 26222,\n        \"samples\": [\n          \"2018-09-21 16:31:55.506368\",\n          \"2018-09-15 23:48:44.345808\"\n        ],\n        \"semantic_type\": \"\",\n        \"description\": \"\"\n      }\n    },\n    {\n      \"column\": \"start_scan_to_end_scan\",\n      \"properties\": {\n        \"dtype\": \"number\",\n        \"std\": 441.1168163208417,\n        \"min\": 20.0,\n        \"max\": 7898.0,\n        \"num_unique_values\": 1914,\n        \"samples\": [\n          2431.0,\n          244.0\n        ],\n        \"semantic_type\": \"\",\n        \"description\": \"\"\n      }\n    },\n    {\n      \"column\": \"actual_distance_to_destination\",\n      \"properties\": {\n        \"dtype\": \"number\",\n        \"std\": 209.95235530628628,\n        \"min\": 9.00135089146556,\n        \"max\": 1927.4477046975032,\n        \"num_unique_values\": 26193,\n        \"samples\": [\n          10.672662721245022,\n          10.481478729081116\n        ],\n        \"semantic_type\": \"\",\n        \"description\": \"\"\n      }\n    },\n    {\n      \"column\": \"actual_time\",\n      \"properties\": {\n        \"dtype\": \"number\",\n        \"std\": 385.73090750342703,\n        \"min\": 9.0,\n        \"max\": 4532.0,\n        \"num_unique_values\": 1657,\n        \"samples\": [\n          3347.0,\n          893.0\n        ],\n        \"semantic_type\": \"\",\n        \"description\": \"\"\n      }\n    },\n    {\n      \"column\": \"osrm_time\",\n      \"properties\": {\n        \"dtype\": \"number\",\n        \"std\": 185.55435921023926,\n        \"min\": 6.0,\n        \"max\": 1686.0,\n        \"num_unique_values\": 560,\n        \"samples\": [\n          1168.0,\n          1326.0\n        ],\n        \"semantic_type\": \"\",\n        \"description\": \"\"\n      }\n    },\n    {\n      \"column\": \"osrm_distance\",\n      \"properties\": {\n        \"dtype\": \"number\",\n        \"std\": 254.42646843294193,\n        \"min\": 9.0729,\n        \"max\": 2326.1991000000003,\n        \"num_unique_values\": 25871,\n        \"samples\": [\n          35.1773,\n          29.4577\n        ],\n        \"semantic_type\": \"\",\n        \"description\": \"\"\n      }\n    },\n    {\n      \"column\": \"segment_actual_time_sum\",\n      \"properties\": {\n        \"dtype\": \"number\",\n        \"std\": 382.1506865793488,\n        \"min\": 9.0,\n        \"max\": 4504.0,\n        \"num_unique_values\": 1676,\n        \"samples\": [\n          2345.0,\n          1653.0\n        ],\n        \"semantic_type\": \"\",\n        \"description\": \"\"\n      }\n    },\n    {\n      \"column\": \"segment_osrm_distance_sum\",\n      \"properties\": {\n        \"dtype\": \"number\",\n        \"std\": 286.6701064565527,\n        \"min\": 9.0729,\n        \"max\": 2640.9247,\n        \"num_unique_values\": 25948,\n        \"samples\": [\n          21.0942,\n          833.9528\n        ],\n        \"semantic_type\": \"\",\n        \"description\": \"\"\n      }\n    },\n    {\n      \"column\": \"segment_osrm_time_sum\",\n      \"properties\": {\n        \"dtype\": \"number\",\n        \"std\": 216.20273873603742,\n        \"min\": 6.0,\n        \"max\": 1938.0,\n        \"num_unique_values\": 1102,\n        \"samples\": [\n          1114.0,\n          1689.0\n        ],\n        \"semantic_type\": \"\",\n        \"description\": \"\"\n      }\n    }\n  ]\n}"
            }
          },
          "metadata": {},
          "execution_count": 83
        }
      ]
    },
    {
      "cell_type": "markdown",
      "source": [
        "*   **Total Time taken by an order**"
      ],
      "metadata": {
        "id": "44UYIYqx0fFJ"
      }
    },
    {
      "cell_type": "code",
      "source": [
        "d['od_time_diff_hour']=(d['od_end_time']-d['od_start_time']).dt.total_seconds()/60"
      ],
      "metadata": {
        "id": "ucB-GchRDkVv"
      },
      "execution_count": 84,
      "outputs": []
    },
    {
      "cell_type": "markdown",
      "source": [
        "  *   **Grouping data futher based on 'trip_uuid'**"
      ],
      "metadata": {
        "id": "ac0lILh7ECWi"
      }
    },
    {
      "cell_type": "code",
      "source": [
        "create_trip_dict={\n",
        "    'trip_creation_time':'first',\n",
        "    'route_schedule_uuid':'first',\n",
        "    'route_type':'first',\n",
        "    'trip_uuid':'first',\n",
        "    'source_center':'last',\n",
        "    'source_name':'last',\n",
        "    'destination_center':'first',\n",
        "    'destination_name':'first',\n",
        "    'od_start_time':'min',\n",
        "    'od_end_time':'max',\n",
        "    'od_time_diff_hour':'sum',\n",
        "    'start_scan_to_end_scan':'sum',\n",
        "    'actual_distance_to_destination':'sum',\n",
        "    'actual_time':'sum',\n",
        "    'osrm_time':'sum',\n",
        "    'osrm_distance':'sum',\n",
        "    'segment_actual_time_sum':'sum',\n",
        "    'segment_osrm_distance_sum':'sum',\n",
        "    'segment_osrm_time_sum':'sum'\n",
        "}"
      ],
      "metadata": {
        "id": "v3yACJu_pEvb"
      },
      "execution_count": 85,
      "outputs": []
    },
    {
      "cell_type": "code",
      "source": [
        "d=d.groupby('trip_uuid').agg(create_trip_dict).reset_index(drop=True)\n",
        "d_m=d.groupby('trip_uuid').agg(create_trip_dict).reset_index(drop=True)"
      ],
      "metadata": {
        "id": "qUmuH20uZJZf"
      },
      "execution_count": 86,
      "outputs": []
    },
    {
      "cell_type": "markdown",
      "source": [
        "*   After merging the rows there are only 14787 entries in dataset."
      ],
      "metadata": {
        "id": "MRhMHbp3YJ8c"
      }
    },
    {
      "cell_type": "markdown",
      "source": [
        "*   **Outlier Detection**"
      ],
      "metadata": {
        "id": "3norqchTpRWV"
      }
    },
    {
      "cell_type": "code",
      "source": [
        "numericals=['start_scan_to_end_scan','actual_distance_to_destination','actual_time','osrm_time','osrm_distance','segment_actual_time_sum','segment_osrm_distance_sum','segment_osrm_time_sum','od_time_diff_hour']"
      ],
      "metadata": {
        "id": "guHrkdn1s_Uc"
      },
      "execution_count": 87,
      "outputs": []
    },
    {
      "cell_type": "markdown",
      "source": [
        "*   **Box - Plots**"
      ],
      "metadata": {
        "id": "zJsL-xhuYuZJ"
      }
    },
    {
      "cell_type": "code",
      "source": [
        "d[numericals].boxplot(figsize=(25,10))\n",
        "plt.show()"
      ],
      "metadata": {
        "colab": {
          "base_uri": "https://localhost:8080/",
          "height": 551
        },
        "id": "Pr5ewA49taLx",
        "outputId": "382fe45d-e69b-4f06-869f-0ea2a054b9be"
      },
      "execution_count": 88,
      "outputs": [
        {
          "output_type": "display_data",
          "data": {
            "text/plain": [
              "<Figure size 2500x1000 with 1 Axes>"
            ],
            "image/png": "[encoded data removed]"
          },
          "metadata": {}
        }
      ]
    },
    {
      "cell_type": "code",
      "source": [
        "# finding the 1st Quartile\n",
        "Q1 = np.quantile(d[numericals], 0.25)\n",
        "\n",
        "# finding the 3rd Quartile\n",
        "Q3 = np.quantile(d[numericals], 0.75)\n",
        "\n",
        "# finding the Inter-Quartile-Range(IQR) region\n",
        "IQR = Q3-Q1\n",
        "\n",
        "# finding upper and lower whiskers\n",
        "upper_bound = Q3+(1.5*IQR)\n",
        "lower_bound = Q1-(1.5*IQR)"
      ],
      "metadata": {
        "id": "V5frerj81SKD"
      },
      "execution_count": 89,
      "outputs": []
    },
    {
      "cell_type": "markdown",
      "source": [
        "*   **Outlier Treatment**"
      ],
      "metadata": {
        "id": "hzABfGF1Y4_X"
      }
    },
    {
      "cell_type": "code",
      "source": [
        "d=d[~((d[numericals] < (lower_bound)) |(d[numericals] > (upper_bound))).any(axis=1)]\n",
        "d=d.reset_index(drop=True)"
      ],
      "metadata": {
        "id": "ZD8bzED--873"
      },
      "execution_count": 90,
      "outputs": []
    },
    {
      "cell_type": "markdown",
      "source": [
        "\n",
        "\n",
        "*   After removing outlier's 11359 entries are available in dataset."
      ],
      "metadata": {
        "id": "pop6WfBRZCdQ"
      }
    },
    {
      "cell_type": "markdown",
      "source": [
        "*   **Extracting City,Place,Code,State from Source & Destination Names**"
      ],
      "metadata": {
        "id": "Vk1DQI__O7ij"
      }
    },
    {
      "cell_type": "code",
      "source": [
        "def state(x):\n",
        "  state=x.split('(')[1]\n",
        "  return state[:-1]\n",
        "\n",
        "def city(x):\n",
        "  city=(x.split('(')[0]).split('_')[0]\n",
        "  return city\n",
        "\n",
        "def place(x):\n",
        "  x=x.split('(')[0]\n",
        "  if len(x.split('_'))>=3:\n",
        "    place=x.split('_')[1]\n",
        "  elif len(x.split('_'))==2:\n",
        "    place=x.split('_')[0]\n",
        "  else:\n",
        "    place=x.split(\" \")[0]\n",
        "  return place\n",
        "\n",
        "def code(x):\n",
        "  x=x.split('(')[0]\n",
        "  if len(x.split('_'))>=3:\n",
        "    return x.split('_')[-1]\n",
        "  return  \"none\""
      ],
      "metadata": {
        "id": "pbdinfCMPXI9"
      },
      "execution_count": 91,
      "outputs": []
    },
    {
      "cell_type": "code",
      "source": [
        "d['source_state']=d['source_name'].apply(state)\n",
        "d['source_city']=d['source_name'].apply(city)\n",
        "d['source_place']=d['source_name'].apply(place)\n",
        "d['source_code']=d['source_name'].apply(code)\n",
        "\n",
        "d['destination_state']=d['destination_name'].apply(state)\n",
        "d['destination_city']=d['destination_name'].apply(city)\n",
        "d['destination_place']=d['destination_name'].apply(place)\n",
        "d['destination_code']=d['destination_name'].apply(code)"
      ],
      "metadata": {
        "id": "8v7p_OYXwnT9"
      },
      "execution_count": 92,
      "outputs": []
    },
    {
      "cell_type": "markdown",
      "source": [
        "*   **Business Insights**"
      ],
      "metadata": {
        "id": "oBfPMg2lZl0o"
      }
    },
    {
      "cell_type": "markdown",
      "source": [
        "*   State with most number of orders"
      ],
      "metadata": {
        "id": "SMwFYUqeJuPb"
      }
    },
    {
      "cell_type": "code",
      "source": [
        "(d['source_state'].value_counts()).head()"
      ],
      "metadata": {
        "colab": {
          "base_uri": "https://localhost:8080/",
          "height": 272
        },
        "id": "TUj36NIJpIM3",
        "outputId": "903a024d-ad72-421f-e388-9dc9a812114d"
      },
      "execution_count": 93,
      "outputs": [
        {
          "output_type": "execute_result",
          "data": {
            "text/plain": [
              "source_state\n",
              "Maharashtra    2215\n",
              "Karnataka      1869\n",
              "Haryana        1207\n",
              "Tamil Nadu      985\n",
              "Delhi           634\n",
              "Name: count, dtype: int64"
            ],
            "text/html": [
              "<div>\n",
              "<style scoped>\n",
              "    .dataframe tbody tr th:only-of-type {\n",
              "        vertical-align: middle;\n",
              "    }\n",
              "\n",
              "    .dataframe tbody tr th {\n",
              "        vertical-align: top;\n",
              "    }\n",
              "\n",
              "    .dataframe thead th {\n",
              "        text-align: right;\n",
              "    }\n",
              "</style>\n",
              "<table border=\"1\" class=\"dataframe\">\n",
              "  <thead>\n",
              "    <tr style=\"text-align: right;\">\n",
              "      <th></th>\n",
              "      <th>count</th>\n",
              "    </tr>\n",
              "    <tr>\n",
              "      <th>source_state</th>\n",
              "      <th></th>\n",
              "    </tr>\n",
              "  </thead>\n",
              "  <tbody>\n",
              "    <tr>\n",
              "      <th>Maharashtra</th>\n",
              "      <td>2215</td>\n",
              "    </tr>\n",
              "    <tr>\n",
              "      <th>Karnataka</th>\n",
              "      <td>1869</td>\n",
              "    </tr>\n",
              "    <tr>\n",
              "      <th>Haryana</th>\n",
              "      <td>1207</td>\n",
              "    </tr>\n",
              "    <tr>\n",
              "      <th>Tamil Nadu</th>\n",
              "      <td>985</td>\n",
              "    </tr>\n",
              "    <tr>\n",
              "      <th>Delhi</th>\n",
              "      <td>634</td>\n",
              "    </tr>\n",
              "  </tbody>\n",
              "</table>\n",
              "</div><br><label><b>dtype:</b> int64</label>"
            ]
          },
          "metadata": {},
          "execution_count": 93
        }
      ]
    },
    {
      "cell_type": "markdown",
      "source": [
        "*   Maharashtra is the source state with more number of orders."
      ],
      "metadata": {
        "id": "R7JPZvAXUmlN"
      }
    },
    {
      "cell_type": "code",
      "source": [
        "(d['destination_state'].value_counts()).head()"
      ],
      "metadata": {
        "colab": {
          "base_uri": "https://localhost:8080/",
          "height": 272
        },
        "id": "55kZf-6zUeNg",
        "outputId": "dc5f93bd-bd72-44ab-c8b4-56af51e21b4d"
      },
      "execution_count": 94,
      "outputs": [
        {
          "output_type": "execute_result",
          "data": {
            "text/plain": [
              "destination_state\n",
              "Maharashtra    2194\n",
              "Karnataka      1870\n",
              "Haryana        1256\n",
              "Tamil Nadu      975\n",
              "Gujarat         636\n",
              "Name: count, dtype: int64"
            ],
            "text/html": [
              "<div>\n",
              "<style scoped>\n",
              "    .dataframe tbody tr th:only-of-type {\n",
              "        vertical-align: middle;\n",
              "    }\n",
              "\n",
              "    .dataframe tbody tr th {\n",
              "        vertical-align: top;\n",
              "    }\n",
              "\n",
              "    .dataframe thead th {\n",
              "        text-align: right;\n",
              "    }\n",
              "</style>\n",
              "<table border=\"1\" class=\"dataframe\">\n",
              "  <thead>\n",
              "    <tr style=\"text-align: right;\">\n",
              "      <th></th>\n",
              "      <th>count</th>\n",
              "    </tr>\n",
              "    <tr>\n",
              "      <th>destination_state</th>\n",
              "      <th></th>\n",
              "    </tr>\n",
              "  </thead>\n",
              "  <tbody>\n",
              "    <tr>\n",
              "      <th>Maharashtra</th>\n",
              "      <td>2194</td>\n",
              "    </tr>\n",
              "    <tr>\n",
              "      <th>Karnataka</th>\n",
              "      <td>1870</td>\n",
              "    </tr>\n",
              "    <tr>\n",
              "      <th>Haryana</th>\n",
              "      <td>1256</td>\n",
              "    </tr>\n",
              "    <tr>\n",
              "      <th>Tamil Nadu</th>\n",
              "      <td>975</td>\n",
              "    </tr>\n",
              "    <tr>\n",
              "      <th>Gujarat</th>\n",
              "      <td>636</td>\n",
              "    </tr>\n",
              "  </tbody>\n",
              "</table>\n",
              "</div><br><label><b>dtype:</b> int64</label>"
            ]
          },
          "metadata": {},
          "execution_count": 94
        }
      ]
    },
    {
      "cell_type": "markdown",
      "source": [
        "*   Maharashtra is the destination state with more number of orders."
      ],
      "metadata": {
        "id": "ut8M-h9qUkLi"
      }
    },
    {
      "cell_type": "code",
      "source": [
        "(d[(d['source_state']==\"Maharashtra\") & (d['destination_state']==\"Maharashtra\")]['source_city'].value_counts()).head()"
      ],
      "metadata": {
        "colab": {
          "base_uri": "https://localhost:8080/",
          "height": 272
        },
        "id": "b4n3CcjDHUho",
        "outputId": "86efb51d-37e2-4704-8ba4-609a85c7378e"
      },
      "execution_count": 95,
      "outputs": [
        {
          "output_type": "execute_result",
          "data": {
            "text/plain": [
              "source_city\n",
              "Bhiwandi       579\n",
              "Mumbai         566\n",
              "Pune           322\n",
              "Mumbai Hub     300\n",
              "LowerParel      65\n",
              "Name: count, dtype: int64"
            ],
            "text/html": [
              "<div>\n",
              "<style scoped>\n",
              "    .dataframe tbody tr th:only-of-type {\n",
              "        vertical-align: middle;\n",
              "    }\n",
              "\n",
              "    .dataframe tbody tr th {\n",
              "        vertical-align: top;\n",
              "    }\n",
              "\n",
              "    .dataframe thead th {\n",
              "        text-align: right;\n",
              "    }\n",
              "</style>\n",
              "<table border=\"1\" class=\"dataframe\">\n",
              "  <thead>\n",
              "    <tr style=\"text-align: right;\">\n",
              "      <th></th>\n",
              "      <th>count</th>\n",
              "    </tr>\n",
              "    <tr>\n",
              "      <th>source_city</th>\n",
              "      <th></th>\n",
              "    </tr>\n",
              "  </thead>\n",
              "  <tbody>\n",
              "    <tr>\n",
              "      <th>Bhiwandi</th>\n",
              "      <td>579</td>\n",
              "    </tr>\n",
              "    <tr>\n",
              "      <th>Mumbai</th>\n",
              "      <td>566</td>\n",
              "    </tr>\n",
              "    <tr>\n",
              "      <th>Pune</th>\n",
              "      <td>322</td>\n",
              "    </tr>\n",
              "    <tr>\n",
              "      <th>Mumbai Hub</th>\n",
              "      <td>300</td>\n",
              "    </tr>\n",
              "    <tr>\n",
              "      <th>LowerParel</th>\n",
              "      <td>65</td>\n",
              "    </tr>\n",
              "  </tbody>\n",
              "</table>\n",
              "</div><br><label><b>dtype:</b> int64</label>"
            ]
          },
          "metadata": {},
          "execution_count": 95
        }
      ]
    },
    {
      "cell_type": "markdown",
      "source": [
        "*   Bhiwandi city is the source for the most of the orders."
      ],
      "metadata": {
        "id": "HXBOy9pFL0YA"
      }
    },
    {
      "cell_type": "code",
      "source": [
        "(d[(d['source_state']==\"Maharashtra\") & (d['destination_state']==\"Maharashtra\") & (d['source_city']==\"Bhiwandi\")][\"destination_city\"].value_counts()).head()"
      ],
      "metadata": {
        "colab": {
          "base_uri": "https://localhost:8080/",
          "height": 272
        },
        "id": "6vzK4aFcMl4S",
        "outputId": "b12b46a8-9b62-482c-f9b0-0b82948fb749"
      },
      "execution_count": 96,
      "outputs": [
        {
          "output_type": "execute_result",
          "data": {
            "text/plain": [
              "destination_city\n",
              "Mumbai         330\n",
              "Mumbai Hub     105\n",
              "Bhiwandi        79\n",
              "Pune            61\n",
              "Murbad           2\n",
              "Name: count, dtype: int64"
            ],
            "text/html": [
              "<div>\n",
              "<style scoped>\n",
              "    .dataframe tbody tr th:only-of-type {\n",
              "        vertical-align: middle;\n",
              "    }\n",
              "\n",
              "    .dataframe tbody tr th {\n",
              "        vertical-align: top;\n",
              "    }\n",
              "\n",
              "    .dataframe thead th {\n",
              "        text-align: right;\n",
              "    }\n",
              "</style>\n",
              "<table border=\"1\" class=\"dataframe\">\n",
              "  <thead>\n",
              "    <tr style=\"text-align: right;\">\n",
              "      <th></th>\n",
              "      <th>count</th>\n",
              "    </tr>\n",
              "    <tr>\n",
              "      <th>destination_city</th>\n",
              "      <th></th>\n",
              "    </tr>\n",
              "  </thead>\n",
              "  <tbody>\n",
              "    <tr>\n",
              "      <th>Mumbai</th>\n",
              "      <td>330</td>\n",
              "    </tr>\n",
              "    <tr>\n",
              "      <th>Mumbai Hub</th>\n",
              "      <td>105</td>\n",
              "    </tr>\n",
              "    <tr>\n",
              "      <th>Bhiwandi</th>\n",
              "      <td>79</td>\n",
              "    </tr>\n",
              "    <tr>\n",
              "      <th>Pune</th>\n",
              "      <td>61</td>\n",
              "    </tr>\n",
              "    <tr>\n",
              "      <th>Murbad</th>\n",
              "      <td>2</td>\n",
              "    </tr>\n",
              "  </tbody>\n",
              "</table>\n",
              "</div><br><label><b>dtype:</b> int64</label>"
            ]
          },
          "metadata": {},
          "execution_count": 96
        }
      ]
    },
    {
      "cell_type": "markdown",
      "source": [
        "*   Mumbai city is the destination for the most of the orders."
      ],
      "metadata": {
        "id": "S-lm5EUnNNrb"
      }
    },
    {
      "cell_type": "markdown",
      "source": [
        "**Average distance & time taken b/w Mumbai - Bhiwandi Corridor**"
      ],
      "metadata": {
        "id": "ZaFNbvoAPZl8"
      }
    },
    {
      "cell_type": "code",
      "source": [
        "d[((d['source_city']==\"Bhiwandi\") & (d['destination_city']==\"Mumbai\")) | ((d['source_city']==\"Mumbai\") & (d['destination_city']==\"Bhiwandi\"))]['actual_distance_to_destination'].mean()"
      ],
      "metadata": {
        "colab": {
          "base_uri": "https://localhost:8080/"
        },
        "id": "pEz9q8vhP1Z4",
        "outputId": "e6056d0a-7665-4b3e-bc3f-7b9a0a9124a1"
      },
      "execution_count": 97,
      "outputs": [
        {
          "output_type": "execute_result",
          "data": {
            "text/plain": [
              "22.48440707665221"
            ]
          },
          "metadata": {},
          "execution_count": 97
        }
      ]
    },
    {
      "cell_type": "code",
      "source": [
        "d[((d['source_city']==\"Bhiwandi\") & (d['destination_city']==\"Mumbai\")) | ((d['source_city']==\"Mumbai\") & (d['destination_city']==\"Bhiwandi\"))]['actual_time'].mean()"
      ],
      "metadata": {
        "colab": {
          "base_uri": "https://localhost:8080/"
        },
        "id": "DPsTpzzeV8Cm",
        "outputId": "1e6bfff3-37f4-4590-a82d-8a9e6c2e10c9"
      },
      "execution_count": 98,
      "outputs": [
        {
          "output_type": "execute_result",
          "data": {
            "text/plain": [
              "84.6852886405959"
            ]
          },
          "metadata": {},
          "execution_count": 98
        }
      ]
    },
    {
      "cell_type": "markdown",
      "source": [
        "*   **Extracting Month,Year,Day from Trip_Creation_Time**"
      ],
      "metadata": {
        "id": "N5pZy9DJytfn"
      }
    },
    {
      "cell_type": "code",
      "source": [
        "d['trip_creation_day']=d['trip_creation_time'].dt.day\n",
        "d['trip_creation_month']=d['trip_creation_time'].dt.month\n",
        "d['trip_creation_year']=d['trip_creation_time'].dt.year"
      ],
      "metadata": {
        "id": "lFa7Tm7d3piD"
      },
      "execution_count": 99,
      "outputs": []
    },
    {
      "cell_type": "markdown",
      "source": [
        "\n",
        "\n",
        "*   **One - Hot Encoding**\n",
        "\n"
      ],
      "metadata": {
        "id": "QPSqbDsSmU8N"
      }
    },
    {
      "cell_type": "code",
      "source": [
        "d['route_type'].value_counts()"
      ],
      "metadata": {
        "colab": {
          "base_uri": "https://localhost:8080/",
          "height": 178
        },
        "id": "BHeqkfUZKdrd",
        "outputId": "71fa972a-5ba4-4776-e3b1-9f4a7ef4f559"
      },
      "execution_count": 100,
      "outputs": [
        {
          "output_type": "execute_result",
          "data": {
            "text/plain": [
              "route_type\n",
              "Carting    8509\n",
              "FTL        2850\n",
              "Name: count, dtype: int64"
            ],
            "text/html": [
              "<div>\n",
              "<style scoped>\n",
              "    .dataframe tbody tr th:only-of-type {\n",
              "        vertical-align: middle;\n",
              "    }\n",
              "\n",
              "    .dataframe tbody tr th {\n",
              "        vertical-align: top;\n",
              "    }\n",
              "\n",
              "    .dataframe thead th {\n",
              "        text-align: right;\n",
              "    }\n",
              "</style>\n",
              "<table border=\"1\" class=\"dataframe\">\n",
              "  <thead>\n",
              "    <tr style=\"text-align: right;\">\n",
              "      <th></th>\n",
              "      <th>count</th>\n",
              "    </tr>\n",
              "    <tr>\n",
              "      <th>route_type</th>\n",
              "      <th></th>\n",
              "    </tr>\n",
              "  </thead>\n",
              "  <tbody>\n",
              "    <tr>\n",
              "      <th>Carting</th>\n",
              "      <td>8509</td>\n",
              "    </tr>\n",
              "    <tr>\n",
              "      <th>FTL</th>\n",
              "      <td>2850</td>\n",
              "    </tr>\n",
              "  </tbody>\n",
              "</table>\n",
              "</div><br><label><b>dtype:</b> int64</label>"
            ]
          },
          "metadata": {},
          "execution_count": 100
        }
      ]
    },
    {
      "cell_type": "code",
      "source": [
        "d['route_type']=d['route_type'].map({'FTL':0,'Carting':1})"
      ],
      "metadata": {
        "id": "vEKRMv9kKq_u"
      },
      "execution_count": 101,
      "outputs": []
    },
    {
      "cell_type": "markdown",
      "source": [
        "\n",
        "\n",
        "*   **Normalizing/Standardizing the numerical features**"
      ],
      "metadata": {
        "id": "6Ikiyk4lMHuF"
      }
    },
    {
      "cell_type": "code",
      "source": [
        "from sklearn.preprocessing import StandardScaler"
      ],
      "metadata": {
        "id": "WKn9CoW-MWgZ"
      },
      "execution_count": 102,
      "outputs": []
    },
    {
      "cell_type": "code",
      "source": [
        "scaler=StandardScaler()\n",
        "scaler.fit(d[numericals])\n",
        "d[numericals]=scaler.transform(d[numericals])"
      ],
      "metadata": {
        "id": "BImND-djfESX"
      },
      "execution_count": 103,
      "outputs": []
    },
    {
      "cell_type": "code",
      "source": [
        "d[numericals]"
      ],
      "metadata": {
        "colab": {
          "base_uri": "https://localhost:8080/",
          "height": 444
        },
        "id": "3f8Su1-zfzt4",
        "outputId": "81fe2272-eedd-4631-8425-c244e2fda26a"
      },
      "execution_count": 104,
      "outputs": [
        {
          "output_type": "execute_result",
          "data": {
            "text/plain": [
              "       start_scan_to_end_scan  actual_distance_to_destination  actual_time  \\\n",
              "0                   -0.448285                        0.254553    -0.002699   \n",
              "1                   -0.957534                       -0.725899    -0.726969   \n",
              "2                   -0.390994                       -0.595985    -0.709725   \n",
              "3                   -0.970266                       -0.867243    -1.028748   \n",
              "4                   -0.664716                       -0.634019    -0.683858   \n",
              "...                       ...                             ...          ...   \n",
              "11354                0.041868                       -0.015445    -0.520035   \n",
              "11355               -1.212159                       -0.754982    -1.054615   \n",
              "11356                1.085830                       -0.349386     1.195795   \n",
              "11357                0.614774                        1.331721     1.040594   \n",
              "11358                0.652968                        0.130177     1.135439   \n",
              "\n",
              "       osrm_time  osrm_distance  segment_actual_time_sum  \\\n",
              "0       0.057773       0.152390                -0.007499   \n",
              "1      -0.861111      -0.774690                -0.720200   \n",
              "2      -0.722412      -0.655889                -0.711509   \n",
              "3      -0.895786      -0.883246                -1.024402   \n",
              "4      -0.531700      -0.643766                -0.676743   \n",
              "...          ...            ...                      ...   \n",
              "11354  -0.046252      -0.012648                -0.520296   \n",
              "11355  -0.913123      -0.825582                -1.050476   \n",
              "11356  -0.288976      -0.218936                 1.209307   \n",
              "11357   1.982227       1.370899                 1.009403   \n",
              "11358   0.057773       0.088173                 1.148467   \n",
              "\n",
              "       segment_osrm_distance_sum  segment_osrm_time_sum  od_time_diff_hour  \n",
              "0                       0.050711              -0.101539          -0.442164  \n",
              "1                      -0.788021              -0.843649          -0.957706  \n",
              "2                      -0.681236              -0.737633          -0.385753  \n",
              "3                      -0.890503              -0.889084          -0.973527  \n",
              "4                      -0.670078              -0.571037          -0.663169  \n",
              "...                          ...                    ...                ...  \n",
              "11354                  -0.201436              -0.146974           0.043507  \n",
              "11355                  -0.837426              -0.919375          -1.211320  \n",
              "11356                   0.320633               0.246799           1.086394  \n",
              "11357                   1.867946               2.261099           0.618582  \n",
              "11358                   0.003623              -0.071248           0.656046  \n",
              "\n",
              "[11359 rows x 9 columns]"
            ],
            "text/html": [
              "\n",
              "  <div id=\"df-3b22a0c4-8d76-478c-a725-15b45de5d5e4\" class=\"colab-df-container\">\n",
              "    <div>\n",
              "<style scoped>\n",
              "    .dataframe tbody tr th:only-of-type {\n",
              "        vertical-align: middle;\n",
              "    }\n",
              "\n",
              "    .dataframe tbody tr th {\n",
              "        vertical-align: top;\n",
              "    }\n",
              "\n",
              "    .dataframe thead th {\n",
              "        text-align: right;\n",
              "    }\n",
              "</style>\n",
              "<table border=\"1\" class=\"dataframe\">\n",
              "  <thead>\n",
              "    <tr style=\"text-align: right;\">\n",
              "      <th></th>\n",
              "      <th>start_scan_to_end_scan</th>\n",
              "      <th>actual_distance_to_destination</th>\n",
              "      <th>actual_time</th>\n",
              "      <th>osrm_time</th>\n",
              "      <th>osrm_distance</th>\n",
              "      <th>segment_actual_time_sum</th>\n",
              "      <th>segment_osrm_distance_sum</th>\n",
              "      <th>segment_osrm_time_sum</th>\n",
              "      <th>od_time_diff_hour</th>\n",
              "    </tr>\n",
              "  </thead>\n",
              "  <tbody>\n",
              "    <tr>\n",
              "      <th>0</th>\n",
              "      <td>-0.448285</td>\n",
              "      <td>0.254553</td>\n",
              "      <td>-0.002699</td>\n",
              "      <td>0.057773</td>\n",
              "      <td>0.152390</td>\n",
              "      <td>-0.007499</td>\n",
              "      <td>0.050711</td>\n",
              "      <td>-0.101539</td>\n",
              "      <td>-0.442164</td>\n",
              "    </tr>\n",
              "    <tr>\n",
              "      <th>1</th>\n",
              "      <td>-0.957534</td>\n",
              "      <td>-0.725899</td>\n",
              "      <td>-0.726969</td>\n",
              "      <td>-0.861111</td>\n",
              "      <td>-0.774690</td>\n",
              "      <td>-0.720200</td>\n",
              "      <td>-0.788021</td>\n",
              "      <td>-0.843649</td>\n",
              "      <td>-0.957706</td>\n",
              "    </tr>\n",
              "    <tr>\n",
              "      <th>2</th>\n",
              "      <td>-0.390994</td>\n",
              "      <td>-0.595985</td>\n",
              "      <td>-0.709725</td>\n",
              "      <td>-0.722412</td>\n",
              "      <td>-0.655889</td>\n",
              "      <td>-0.711509</td>\n",
              "      <td>-0.681236</td>\n",
              "      <td>-0.737633</td>\n",
              "      <td>-0.385753</td>\n",
              "    </tr>\n",
              "    <tr>\n",
              "      <th>3</th>\n",
              "      <td>-0.970266</td>\n",
              "      <td>-0.867243</td>\n",
              "      <td>-1.028748</td>\n",
              "      <td>-0.895786</td>\n",
              "      <td>-0.883246</td>\n",
              "      <td>-1.024402</td>\n",
              "      <td>-0.890503</td>\n",
              "      <td>-0.889084</td>\n",
              "      <td>-0.973527</td>\n",
              "    </tr>\n",
              "    <tr>\n",
              "      <th>4</th>\n",
              "      <td>-0.664716</td>\n",
              "      <td>-0.634019</td>\n",
              "      <td>-0.683858</td>\n",
              "      <td>-0.531700</td>\n",
              "      <td>-0.643766</td>\n",
              "      <td>-0.676743</td>\n",
              "      <td>-0.670078</td>\n",
              "      <td>-0.571037</td>\n",
              "      <td>-0.663169</td>\n",
              "    </tr>\n",
              "    <tr>\n",
              "      <th>...</th>\n",
              "      <td>...</td>\n",
              "      <td>...</td>\n",
              "      <td>...</td>\n",
              "      <td>...</td>\n",
              "      <td>...</td>\n",
              "      <td>...</td>\n",
              "      <td>...</td>\n",
              "      <td>...</td>\n",
              "      <td>...</td>\n",
              "    </tr>\n",
              "    <tr>\n",
              "      <th>11354</th>\n",
              "      <td>0.041868</td>\n",
              "      <td>-0.015445</td>\n",
              "      <td>-0.520035</td>\n",
              "      <td>-0.046252</td>\n",
              "      <td>-0.012648</td>\n",
              "      <td>-0.520296</td>\n",
              "      <td>-0.201436</td>\n",
              "      <td>-0.146974</td>\n",
              "      <td>0.043507</td>\n",
              "    </tr>\n",
              "    <tr>\n",
              "      <th>11355</th>\n",
              "      <td>-1.212159</td>\n",
              "      <td>-0.754982</td>\n",
              "      <td>-1.054615</td>\n",
              "      <td>-0.913123</td>\n",
              "      <td>-0.825582</td>\n",
              "      <td>-1.050476</td>\n",
              "      <td>-0.837426</td>\n",
              "      <td>-0.919375</td>\n",
              "      <td>-1.211320</td>\n",
              "    </tr>\n",
              "    <tr>\n",
              "      <th>11356</th>\n",
              "      <td>1.085830</td>\n",
              "      <td>-0.349386</td>\n",
              "      <td>1.195795</td>\n",
              "      <td>-0.288976</td>\n",
              "      <td>-0.218936</td>\n",
              "      <td>1.209307</td>\n",
              "      <td>0.320633</td>\n",
              "      <td>0.246799</td>\n",
              "      <td>1.086394</td>\n",
              "    </tr>\n",
              "    <tr>\n",
              "      <th>11357</th>\n",
              "      <td>0.614774</td>\n",
              "      <td>1.331721</td>\n",
              "      <td>1.040594</td>\n",
              "      <td>1.982227</td>\n",
              "      <td>1.370899</td>\n",
              "      <td>1.009403</td>\n",
              "      <td>1.867946</td>\n",
              "      <td>2.261099</td>\n",
              "      <td>0.618582</td>\n",
              "    </tr>\n",
              "    <tr>\n",
              "      <th>11358</th>\n",
              "      <td>0.652968</td>\n",
              "      <td>0.130177</td>\n",
              "      <td>1.135439</td>\n",
              "      <td>0.057773</td>\n",
              "      <td>0.088173</td>\n",
              "      <td>1.148467</td>\n",
              "      <td>0.003623</td>\n",
              "      <td>-0.071248</td>\n",
              "      <td>0.656046</td>\n",
              "    </tr>\n",
              "  </tbody>\n",
              "</table>\n",
              "<p>11359 rows × 9 columns</p>\n",
              "</div>\n",
              "    <div class=\"colab-df-buttons\">\n",
              "\n",
              "  <div class=\"colab-df-container\">\n",
              "    <button class=\"colab-df-convert\" onclick=\"convertToInteractive('df-3b22a0c4-8d76-478c-a725-15b45de5d5e4')\"\n",
              "            title=\"Convert this dataframe to an interactive table.\"\n",
              "            style=\"display:none;\">\n",
              "\n",
              "  <svg xmlns=\"http://www.w3.org/2000/svg\" height=\"24px\" viewBox=\"0 -960 960 960\">\n",
              "    <path d=\"M120-120v-720h720v720H120Zm60-500h600v-160H180v160Zm220 220h160v-160H400v160Zm0 220h160v-160H400v160ZM180-400h160v-160H180v160Zm440 0h160v-160H620v160ZM180-180h160v-160H180v160Zm440 0h160v-160H620v160Z\"/>\n",
              "  </svg>\n",
              "    </button>\n",
              "\n",
              "  <style>\n",
              "    .colab-df-container {\n",
              "      display:flex;\n",
              "      gap: 12px;\n",
              "    }\n",
              "\n",
              "    .colab-df-convert {\n",
              "      background-color: #E8F0FE;\n",
              "      border: none;\n",
              "      border-radius: 50%;\n",
              "      cursor: pointer;\n",
              "      display: none;\n",
              "      fill: #1967D2;\n",
              "      height: 32px;\n",
              "      padding: 0 0 0 0;\n",
              "      width: 32px;\n",
              "    }\n",
              "\n",
              "    .colab-df-convert:hover {\n",
              "      background-color: #E2EBFA;\n",
              "      box-shadow: 0px 1px 2px rgba(60, 64, 67, 0.3), 0px 1px 3px 1px rgba(60, 64, 67, 0.15);\n",
              "      fill: #174EA6;\n",
              "    }\n",
              "\n",
              "    .colab-df-buttons div {\n",
              "      margin-bottom: 4px;\n",
              "    }\n",
              "\n",
              "    [theme=dark] .colab-df-convert {\n",
              "      background-color: #3B4455;\n",
              "      fill: #D2E3FC;\n",
              "    }\n",
              "\n",
              "    [theme=dark] .colab-df-convert:hover {\n",
              "      background-color: #434B5C;\n",
              "      box-shadow: 0px 1px 3px 1px rgba(0, 0, 0, 0.15);\n",
              "      filter: drop-shadow(0px 1px 2px rgba(0, 0, 0, 0.3));\n",
              "      fill: #FFFFFF;\n",
              "    }\n",
              "  </style>\n",
              "\n",
              "    <script>\n",
              "      const buttonEl =\n",
              "        document.querySelector('#df-3b22a0c4-8d76-478c-a725-15b45de5d5e4 button.colab-df-convert');\n",
              "      buttonEl.style.display =\n",
              "        google.colab.kernel.accessAllowed ? 'block' : 'none';\n",
              "\n",
              "      async function convertToInteractive(key) {\n",
              "        const element = document.querySelector('#df-3b22a0c4-8d76-478c-a725-15b45de5d5e4');\n",
              "        const dataTable =\n",
              "          await google.colab.kernel.invokeFunction('convertToInteractive',\n",
              "                                                    [key], {});\n",
              "        if (!dataTable) return;\n",
              "\n",
              "        const docLinkHtml = 'Like what you see? Visit the ' +\n",
              "          '<a target=\"_blank\" href=https://colab.research.google.com/notebooks/data_table.ipynb>data table notebook</a>'\n",
              "          + ' to learn more about interactive tables.';\n",
              "        element.innerHTML = '';\n",
              "        dataTable['output_type'] = 'display_data';\n",
              "        await google.colab.output.renderOutput(dataTable, element);\n",
              "        const docLink = document.createElement('div');\n",
              "        docLink.innerHTML = docLinkHtml;\n",
              "        element.appendChild(docLink);\n",
              "      }\n",
              "    </script>\n",
              "  </div>\n",
              "\n",
              "\n",
              "<div id=\"df-fe4ba311-e4ae-4c27-bfcb-8eae11f647ac\">\n",
              "  <button class=\"colab-df-quickchart\" onclick=\"quickchart('df-fe4ba311-e4ae-4c27-bfcb-8eae11f647ac')\"\n",
              "            title=\"Suggest charts\"\n",
              "            style=\"display:none;\">\n",
              "\n",
              "<svg xmlns=\"http://www.w3.org/2000/svg\" height=\"24px\"viewBox=\"0 0 24 24\"\n",
              "     width=\"24px\">\n",
              "    <g>\n",
              "        <path d=\"M19 3H5c-1.1 0-2 .9-2 2v14c0 1.1.9 2 2 2h14c1.1 0 2-.9 2-2V5c0-1.1-.9-2-2-2zM9 17H7v-7h2v7zm4 0h-2V7h2v10zm4 0h-2v-4h2v4z\"/>\n",
              "    </g>\n",
              "</svg>\n",
              "  </button>\n",
              "\n",
              "<style>\n",
              "  .colab-df-quickchart {\n",
              "      --bg-color: #E8F0FE;\n",
              "      --fill-color: #1967D2;\n",
              "      --hover-bg-color: #E2EBFA;\n",
              "      --hover-fill-color: #174EA6;\n",
              "      --disabled-fill-color: #AAA;\n",
              "      --disabled-bg-color: #DDD;\n",
              "  }\n",
              "\n",
              "  [theme=dark] .colab-df-quickchart {\n",
              "      --bg-color: #3B4455;\n",
              "      --fill-color: #D2E3FC;\n",
              "      --hover-bg-color: #434B5C;\n",
              "      --hover-fill-color: #FFFFFF;\n",
              "      --disabled-bg-color: #3B4455;\n",
              "      --disabled-fill-color: #666;\n",
              "  }\n",
              "\n",
              "  .colab-df-quickchart {\n",
              "    background-color: var(--bg-color);\n",
              "    border: none;\n",
              "    border-radius: 50%;\n",
              "    cursor: pointer;\n",
              "    display: none;\n",
              "    fill: var(--fill-color);\n",
              "    height: 32px;\n",
              "    padding: 0;\n",
              "    width: 32px;\n",
              "  }\n",
              "\n",
              "  .colab-df-quickchart:hover {\n",
              "    background-color: var(--hover-bg-color);\n",
              "    box-shadow: 0 1px 2px rgba(60, 64, 67, 0.3), 0 1px 3px 1px rgba(60, 64, 67, 0.15);\n",
              "    fill: var(--button-hover-fill-color);\n",
              "  }\n",
              "\n",
              "  .colab-df-quickchart-complete:disabled,\n",
              "  .colab-df-quickchart-complete:disabled:hover {\n",
              "    background-color: var(--disabled-bg-color);\n",
              "    fill: var(--disabled-fill-color);\n",
              "    box-shadow: none;\n",
              "  }\n",
              "\n",
              "  .colab-df-spinner {\n",
              "    border: 2px solid var(--fill-color);\n",
              "    border-color: transparent;\n",
              "    border-bottom-color: var(--fill-color);\n",
              "    animation:\n",
              "      spin 1s steps(1) infinite;\n",
              "  }\n",
              "\n",
              "  @keyframes spin {\n",
              "    0% {\n",
              "      border-color: transparent;\n",
              "      border-bottom-color: var(--fill-color);\n",
              "      border-left-color: var(--fill-color);\n",
              "    }\n",
              "    20% {\n",
              "      border-color: transparent;\n",
              "      border-left-color: var(--fill-color);\n",
              "      border-top-color: var(--fill-color);\n",
              "    }\n",
              "    30% {\n",
              "      border-color: transparent;\n",
              "      border-left-color: var(--fill-color);\n",
              "      border-top-color: var(--fill-color);\n",
              "      border-right-color: var(--fill-color);\n",
              "    }\n",
              "    40% {\n",
              "      border-color: transparent;\n",
              "      border-right-color: var(--fill-color);\n",
              "      border-top-color: var(--fill-color);\n",
              "    }\n",
              "    60% {\n",
              "      border-color: transparent;\n",
              "      border-right-color: var(--fill-color);\n",
              "    }\n",
              "    80% {\n",
              "      border-color: transparent;\n",
              "      border-right-color: var(--fill-color);\n",
              "      border-bottom-color: var(--fill-color);\n",
              "    }\n",
              "    90% {\n",
              "      border-color: transparent;\n",
              "      border-bottom-color: var(--fill-color);\n",
              "    }\n",
              "  }\n",
              "</style>\n",
              "\n",
              "  <script>\n",
              "    async function quickchart(key) {\n",
              "      const quickchartButtonEl =\n",
              "        document.querySelector('#' + key + ' button');\n",
              "      quickchartButtonEl.disabled = true;  // To prevent multiple clicks.\n",
              "      quickchartButtonEl.classList.add('colab-df-spinner');\n",
              "      try {\n",
              "        const charts = await google.colab.kernel.invokeFunction(\n",
              "            'suggestCharts', [key], {});\n",
              "      } catch (error) {\n",
              "        console.error('Error during call to suggestCharts:', error);\n",
              "      }\n",
              "      quickchartButtonEl.classList.remove('colab-df-spinner');\n",
              "      quickchartButtonEl.classList.add('colab-df-quickchart-complete');\n",
              "    }\n",
              "    (() => {\n",
              "      let quickchartButtonEl =\n",
              "        document.querySelector('#df-fe4ba311-e4ae-4c27-bfcb-8eae11f647ac button');\n",
              "      quickchartButtonEl.style.display =\n",
              "        google.colab.kernel.accessAllowed ? 'block' : 'none';\n",
              "    })();\n",
              "  </script>\n",
              "</div>\n",
              "\n",
              "    </div>\n",
              "  </div>\n"
            ],
            "application/vnd.google.colaboratory.intrinsic+json": {
              "type": "dataframe",
              "summary": "{\n  \"name\": \"d[numericals]\",\n  \"rows\": 11359,\n  \"fields\": [\n    {\n      \"column\": \"start_scan_to_end_scan\",\n      \"properties\": {\n        \"dtype\": \"number\",\n        \"std\": 1.0000440208659183,\n        \"min\": -1.4476873347164783,\n        \"max\": 2.785451539978273,\n        \"num_unique_values\": 664,\n        \"samples\": [\n          1.028539766420752,\n          0.436536886200283,\n          0.7866461164381948\n        ],\n        \"semantic_type\": \"\",\n        \"description\": \"\"\n      }\n    },\n    {\n      \"column\": \"actual_distance_to_destination\",\n      \"properties\": {\n        \"dtype\": \"number\",\n        \"std\": 1.0000440208659125,\n        \"min\": -0.8689589075964502,\n        \"max\": 5.694465331922013,\n        \"num_unique_values\": 11345,\n        \"samples\": [\n          0.6704009781538026,\n          0.698483304984182,\n          2.112672290909405\n        ],\n        \"semantic_type\": \"\",\n        \"description\": \"\"\n      }\n    },\n    {\n      \"column\": \"actual_time\",\n      \"properties\": {\n        \"dtype\": \"number\",\n        \"std\": 1.0000440208659156,\n        \"min\": -1.158082236908995,\n        \"max\": 4.515365573231405,\n        \"num_unique_values\": 561,\n        \"samples\": [\n          4.049763473311068,\n          -1.1063486702511798,\n          -0.35621195371285946\n        ],\n        \"semantic_type\": \"\",\n        \"description\": \"\"\n      }\n    },\n    {\n      \"column\": \"osrm_time\",\n      \"properties\": {\n        \"dtype\": \"number\",\n        \"std\": 1.0000440208659145,\n        \"min\": -0.9998103499262081,\n        \"max\": 5.952497193474475,\n        \"num_unique_values\": 313,\n        \"samples\": [\n          0.612570202533302,\n          0.4045210989901394,\n          5.952497193474475\n        ],\n        \"semantic_type\": \"\",\n        \"description\": \"\"\n      }\n    },\n    {\n      \"column\": \"osrm_distance\",\n      \"properties\": {\n        \"dtype\": \"number\",\n        \"std\": 1.0000440208659114,\n        \"min\": -0.9249803637298102,\n        \"max\": 5.3965677215668855,\n        \"num_unique_values\": 11282,\n        \"samples\": [\n          -0.05036986980135257,\n          0.9654868226288174,\n          2.1973217725224035\n        ],\n        \"semantic_type\": \"\",\n        \"description\": \"\"\n      }\n    },\n    {\n      \"column\": \"segment_actual_time_sum\",\n      \"properties\": {\n        \"dtype\": \"number\",\n        \"std\": 1.0000440208659156,\n        \"min\": -1.1547739961385983,\n        \"max\": 4.56421627411054,\n        \"num_unique_values\": 558,\n        \"samples\": [\n          -0.016190826833678774,\n          2.8085384099915034,\n          0.8094992577767591\n        ],\n        \"semantic_type\": \"\",\n        \"description\": \"\"\n      }\n    },\n    {\n      \"column\": \"segment_osrm_distance_sum\",\n      \"properties\": {\n        \"dtype\": \"number\",\n        \"std\": 1.0000440208659138,\n        \"min\": -0.9289166456954226,\n        \"max\": 6.31493238789299,\n        \"num_unique_values\": 11291,\n        \"samples\": [\n          -0.5424723774311297,\n          0.8105298832542046,\n          -0.37961595719701835\n        ],\n        \"semantic_type\": \"\",\n        \"description\": \"\"\n      }\n    },\n    {\n      \"column\": \"segment_osrm_time_sum\",\n      \"properties\": {\n        \"dtype\": \"number\",\n        \"std\": 1.0000440208659196,\n        \"min\": -0.9799551541329112,\n        \"max\": 6.33513500211598,\n        \"num_unique_values\": 348,\n        \"samples\": [\n          2.7154527094793646,\n          0.928329234453756,\n          2.6548722526988358\n        ],\n        \"semantic_type\": \"\",\n        \"description\": \"\"\n      }\n    },\n    {\n      \"column\": \"od_time_diff_hour\",\n      \"properties\": {\n        \"dtype\": \"number\",\n        \"std\": 1.000044020865912,\n        \"min\": -1.4472955633684237,\n        \"max\": 2.780582956004131,\n        \"num_unique_values\": 11359,\n        \"samples\": [\n          -0.6407630555214759,\n          -0.5979173220030001,\n          -1.0192942349085707\n        ],\n        \"semantic_type\": \"\",\n        \"description\": \"\"\n      }\n    }\n  ]\n}"
            }
          },
          "metadata": {},
          "execution_count": 104
        }
      ]
    },
    {
      "cell_type": "markdown",
      "source": [
        "#    **Hypothesis - Testing**"
      ],
      "metadata": {
        "id": "RS09MXhFNBv_"
      }
    },
    {
      "cell_type": "markdown",
      "source": [
        "*   H0 - NULL Hypothesis\n",
        "*   Ha - Alternate Hypothesis\n",
        "*   Significance level(alpha) = 5% (or) 0.05"
      ],
      "metadata": {
        "id": "YZfOhBujP8oA"
      }
    },
    {
      "cell_type": "code",
      "source": [
        "aggregated_actual_time = d_m['actual_time']\n",
        "aggregated_osrm_time = d_m['osrm_time']\n",
        "aggregated_osrm_distance=d_m['osrm_distance']\n",
        "aggregated_segment_actual_time=d_m['segment_actual_time_sum']\n",
        "aggregated_segment_osrm_time=d_m['segment_osrm_time_sum']\n",
        "aggregated_segment_osrm_distance=d_m['segment_osrm_distance_sum']"
      ],
      "metadata": {
        "id": "_D6U0sezVdCC"
      },
      "execution_count": 105,
      "outputs": []
    },
    {
      "cell_type": "markdown",
      "source": [
        "*   **Checking, If there is difference between aggregated actual_time and aggregated osrm_time.**"
      ],
      "metadata": {
        "id": "Pc1VQTluP8yR"
      }
    },
    {
      "cell_type": "markdown",
      "source": [
        "**Tests to know if the samples follow normal distribution**"
      ],
      "metadata": {
        "id": "CluA9izezKZY"
      }
    },
    {
      "cell_type": "code",
      "source": [
        "plt.figure(figsize=(10,6))\n",
        "plt.subplot(121)\n",
        "sns.histplot(aggregated_actual_time,kde=True)\n",
        "plt.title(\"aggregated_actual_time\")\n",
        "plt.subplot(122)\n",
        "sns.histplot(aggregated_osrm_time,kde=True)\n",
        "plt.title(\"aggregated_osrm_time\")\n",
        "plt.show()"
      ],
      "metadata": {
        "colab": {
          "base_uri": "https://localhost:8080/",
          "height": 564
        },
        "id": "RQvFOGnmhPuw",
        "outputId": "d5f455ad-ffc2-4d1b-f1e0-61ed3632176e"
      },
      "execution_count": 106,
      "outputs": [
        {
          "output_type": "display_data",
          "data": {
            "text/plain": [
              "<Figure size 1000x600 with 2 Axes>"
            ],
            "image/png": "[encoded data removed]"
          },
          "metadata": {}
        }
      ]
    },
    {
      "cell_type": "markdown",
      "source": [
        "**QQ Plot**"
      ],
      "metadata": {
        "id": "zvPd1JMbzWAH"
      }
    },
    {
      "cell_type": "code",
      "source": [
        "plt.figure(figsize = (15, 6))\n",
        "plt.subplot(1, 2, 1)\n",
        "stats.probplot(aggregated_actual_time, plot = plt, dist = 'norm')\n",
        "plt.title('QQ plot for aggregated_actual_time')\n",
        "plt.subplot(1, 2, 2)\n",
        "stats.probplot(aggregated_osrm_time, plot = plt, dist = 'norm')\n",
        "plt.title('QQ plot for aggregated_osrm_time')\n",
        "plt.plot()"
      ],
      "metadata": {
        "colab": {
          "base_uri": "https://localhost:8080/",
          "height": 582
        },
        "id": "QHCpjUM2zyYg",
        "outputId": "59e91b32-d578-454a-a20f-1106db95cfc6"
      },
      "execution_count": 107,
      "outputs": [
        {
          "output_type": "execute_result",
          "data": {
            "text/plain": [
              "[]"
            ]
          },
          "metadata": {},
          "execution_count": 107
        },
        {
          "output_type": "display_data",
          "data": {
            "text/plain": [
              "<Figure size 1500x600 with 2 Axes>"
            ],
            "image/png": "[encoded data removed]"
          },
          "metadata": {}
        }
      ]
    },
    {
      "cell_type": "markdown",
      "source": [
        "**From the graph's the samples don't follow normal distribution.**"
      ],
      "metadata": {
        "id": "e4jIgIwX2OeO"
      }
    },
    {
      "cell_type": "markdown",
      "source": [
        "**Shapiro-Wilk Test**"
      ],
      "metadata": {
        "id": "iA86kCEw2dyZ"
      }
    },
    {
      "cell_type": "markdown",
      "source": [
        "*   H0 - Both aggregated actual_time and aggregated osrm_time follow normal distribution.\n",
        "*   Ha - Both aggregated actual_time and aggregated osrm_time does not follow normal distribution."
      ],
      "metadata": {
        "id": "r8q9nTJYhLFy"
      }
    },
    {
      "cell_type": "code",
      "source": [
        "test_stat, p_value = stats.shapiro(aggregated_actual_time.sample(5000))\n",
        "print('p-value', p_value)"
      ],
      "metadata": {
        "colab": {
          "base_uri": "https://localhost:8080/"
        },
        "id": "_gYfMbFwcysP",
        "outputId": "8c069611-4870-41e2-fea7-15bf35803eef"
      },
      "execution_count": 108,
      "outputs": [
        {
          "output_type": "stream",
          "name": "stdout",
          "text": [
            "p-value 1.6553286534448162e-76\n"
          ]
        }
      ]
    },
    {
      "cell_type": "code",
      "source": [
        "if p_value < 0.05:\n",
        "  print(\"The sample does not follow normal distribution\")\n",
        "else:\n",
        "  print(\"The sample follows normal distribution'\")"
      ],
      "metadata": {
        "colab": {
          "base_uri": "https://localhost:8080/"
        },
        "id": "wWm6WH6ZivVC",
        "outputId": "7f7367ed-8a08-42b5-857d-b5b751dd677d"
      },
      "execution_count": 109,
      "outputs": [
        {
          "output_type": "stream",
          "name": "stdout",
          "text": [
            "The sample does not follow normal distribution\n"
          ]
        }
      ]
    },
    {
      "cell_type": "code",
      "source": [
        "test_stat, p_value = stats.shapiro(aggregated_osrm_time.sample(5000))\n",
        "print('p-value', p_value)"
      ],
      "metadata": {
        "colab": {
          "base_uri": "https://localhost:8080/"
        },
        "id": "TBvSS3Xw4L3W",
        "outputId": "2f67aa47-2688-4a3f-ce49-038f44e1c533"
      },
      "execution_count": 110,
      "outputs": [
        {
          "output_type": "stream",
          "name": "stdout",
          "text": [
            "p-value 5.332961677758037e-78\n"
          ]
        }
      ]
    },
    {
      "cell_type": "code",
      "source": [
        "if p_value < 0.05:\n",
        "  print(\"The sample does not follow normal distribution\")\n",
        "else:\n",
        "  print(\"The sample follows normal distribution'\")"
      ],
      "metadata": {
        "colab": {
          "base_uri": "https://localhost:8080/"
        },
        "id": "GQ4F9p6D4Uc8",
        "outputId": "f304f2b2-42e0-42f1-c51a-6c0fb312aeb8"
      },
      "execution_count": 111,
      "outputs": [
        {
          "output_type": "stream",
          "name": "stdout",
          "text": [
            "The sample does not follow normal distribution\n"
          ]
        }
      ]
    },
    {
      "cell_type": "markdown",
      "source": [
        "**Lavene's Test**"
      ],
      "metadata": {
        "id": "vKFTqVlf4oxW"
      }
    },
    {
      "cell_type": "markdown",
      "source": [
        "*   H0 - Both aggregated actual_time and aggregated osrm_time have homogeneous variance.\n",
        "*   Ha - Both aggregated actual_time and aggregated osrm_time have non-homogeneous variance."
      ],
      "metadata": {
        "id": "3QBG1fYm5iNt"
      }
    },
    {
      "cell_type": "code",
      "source": [
        "test_stat, p_value = stats.levene(aggregated_actual_time, aggregated_osrm_time)\n",
        "print('p-value', p_value)"
      ],
      "metadata": {
        "colab": {
          "base_uri": "https://localhost:8080/"
        },
        "id": "gQuYrWlE55SS",
        "outputId": "5935ac10-0855-4325-b7e3-bf9dfc6133a7"
      },
      "execution_count": 112,
      "outputs": [
        {
          "output_type": "stream",
          "name": "stdout",
          "text": [
            "p-value 8.743536461316657e-219\n"
          ]
        }
      ]
    },
    {
      "cell_type": "code",
      "source": [
        "if p_value < 0.05:\n",
        "  print('The samples do not have Homogenous Variance')\n",
        "else:\n",
        "  print('The samples have Homogenous Variance ')"
      ],
      "metadata": {
        "colab": {
          "base_uri": "https://localhost:8080/"
        },
        "id": "ziTNpwWf6IUQ",
        "outputId": "8f28c2fc-048c-4e29-bddc-e96034bc1dcc"
      },
      "execution_count": 113,
      "outputs": [
        {
          "output_type": "stream",
          "name": "stdout",
          "text": [
            "The samples do not have Homogenous Variance\n"
          ]
        }
      ]
    },
    {
      "cell_type": "markdown",
      "source": [
        "**Since the samples do not follow any of the assumptions T-Test cannot be applied here, we can perform its non parametric equivalent test i.e., Mann-Whitney U rank test for two independent samples.**"
      ],
      "metadata": {
        "id": "I7s-_Gvo5fXh"
      }
    },
    {
      "cell_type": "code",
      "source": [
        "test_stat, p_value = stats.mannwhitneyu(aggregated_actual_time, aggregated_osrm_time)\n",
        "print('p-value', p_value)"
      ],
      "metadata": {
        "colab": {
          "base_uri": "https://localhost:8080/"
        },
        "id": "9Mb4Yu_a6x2D",
        "outputId": "d12f975d-6fea-4d6a-b721-08663652670d"
      },
      "execution_count": 114,
      "outputs": [
        {
          "output_type": "stream",
          "name": "stdout",
          "text": [
            "p-value 0.0\n"
          ]
        }
      ]
    },
    {
      "cell_type": "code",
      "source": [
        "if p_value < 0.05:\n",
        "  print('The samples are not similar')\n",
        "else:\n",
        "  print('The samples are similar')"
      ],
      "metadata": {
        "colab": {
          "base_uri": "https://localhost:8080/"
        },
        "id": "oHqi_0Oc67lP",
        "outputId": "fd62057e-10c8-4d98-c69e-f439cfdaec35"
      },
      "execution_count": 115,
      "outputs": [
        {
          "output_type": "stream",
          "name": "stdout",
          "text": [
            "The samples are not similar\n"
          ]
        }
      ]
    },
    {
      "cell_type": "markdown",
      "source": [
        "Therefore,there is difference b/w aggregated actual_time and aggregated osrm_time."
      ],
      "metadata": {
        "id": "2-a4yB6UohQX"
      }
    },
    {
      "cell_type": "markdown",
      "source": [
        "*   **Checking, If there is difference between aggregated actual_time and aggregated segment actual time.**\n"
      ],
      "metadata": {
        "id": "3fsKCHHjjDng"
      }
    },
    {
      "cell_type": "markdown",
      "source": [
        "**Tests to know if the samples follow normal distribution**"
      ],
      "metadata": {
        "id": "WQwrdq9VGD6W"
      }
    },
    {
      "cell_type": "code",
      "source": [
        "plt.figure(figsize=(10,6))\n",
        "plt.subplot(121)\n",
        "sns.histplot(aggregated_actual_time,kde=True)\n",
        "plt.title(\"aggregated_actual_time\")\n",
        "plt.subplot(122)\n",
        "sns.histplot(aggregated_segment_actual_time,kde=True)\n",
        "plt.title(\"aggregated_segement_actual_time\")\n",
        "plt.show()"
      ],
      "metadata": {
        "colab": {
          "base_uri": "https://localhost:8080/",
          "height": 564
        },
        "id": "k1O4jXHoj4jX",
        "outputId": "dcf51f75-b202-4bde-87cd-57e6aaf6fe9e"
      },
      "execution_count": 116,
      "outputs": [
        {
          "output_type": "display_data",
          "data": {
            "text/plain": [
              "<Figure size 1000x600 with 2 Axes>"
            ],
            "image/png": "[encoded data removed]"
          },
          "metadata": {}
        }
      ]
    },
    {
      "cell_type": "markdown",
      "source": [
        "*   **QQ Plot**"
      ],
      "metadata": {
        "id": "mDUvNhb5GVAY"
      }
    },
    {
      "cell_type": "code",
      "source": [
        "plt.figure(figsize = (15, 6))\n",
        "plt.subplot(1, 2, 1)\n",
        "stats.probplot(aggregated_actual_time, plot = plt, dist = 'norm')\n",
        "plt.title('QQ plot for aggregated_actual_time')\n",
        "plt.subplot(1, 2, 2)\n",
        "stats.probplot(aggregated_segment_actual_time, plot = plt, dist = 'norm')\n",
        "plt.title('QQ plot for aggregated_segment_actual_time')\n",
        "plt.plot()"
      ],
      "metadata": {
        "colab": {
          "base_uri": "https://localhost:8080/",
          "height": 582
        },
        "id": "WAfdFRNgG6pB",
        "outputId": "20f044a4-0eea-43c7-856d-ee84ed5d8f4a"
      },
      "execution_count": 117,
      "outputs": [
        {
          "output_type": "execute_result",
          "data": {
            "text/plain": [
              "[]"
            ]
          },
          "metadata": {},
          "execution_count": 117
        },
        {
          "output_type": "display_data",
          "data": {
            "text/plain": [
              "<Figure size 1500x600 with 2 Axes>"
            ],
            "image/png": "[encoded data removed]"
          },
          "metadata": {}
        }
      ]
    },
    {
      "cell_type": "markdown",
      "source": [
        "**From the graph's the samples don't follow normal distribution.**"
      ],
      "metadata": {
        "id": "r-SOzHntHedY"
      }
    },
    {
      "cell_type": "markdown",
      "source": [
        "**Shapiro-Wilk Test**"
      ],
      "metadata": {
        "id": "s3N7Ec9pHqpa"
      }
    },
    {
      "cell_type": "markdown",
      "source": [
        "*   H0 - Both aggregated actual_time and aggregated segment actual time follow normal distribution.\n",
        "*   Ha - Both aggregated actual_time and aggregated segment actual time does not follow normal distribution."
      ],
      "metadata": {
        "id": "MccC2PBtjUuk"
      }
    },
    {
      "cell_type": "code",
      "source": [
        "test_stat, p_value = stats.shapiro(aggregated_actual_time.sample(5000))\n",
        "print('p-value', p_value)"
      ],
      "metadata": {
        "colab": {
          "base_uri": "https://localhost:8080/"
        },
        "id": "PNjzuEfoITXH",
        "outputId": "c598bc1f-773c-40d4-aba4-268bf084a966"
      },
      "execution_count": 118,
      "outputs": [
        {
          "output_type": "stream",
          "name": "stdout",
          "text": [
            "p-value 1.304928504555277e-75\n"
          ]
        }
      ]
    },
    {
      "cell_type": "code",
      "source": [
        "if p_value < 0.05:\n",
        "  print(\"The sample does not follow normal distribution\")\n",
        "else:\n",
        "  print(\"The sample follows normal distribution'\")"
      ],
      "metadata": {
        "colab": {
          "base_uri": "https://localhost:8080/"
        },
        "id": "0YHcdrxzIgBq",
        "outputId": "daf06738-2721-40da-ed33-4433fe4343e3"
      },
      "execution_count": 119,
      "outputs": [
        {
          "output_type": "stream",
          "name": "stdout",
          "text": [
            "The sample does not follow normal distribution\n"
          ]
        }
      ]
    },
    {
      "cell_type": "code",
      "source": [
        "test_stat, p_value = stats.shapiro(aggregated_segment_actual_time.sample(5000))\n",
        "print('p-value', p_value)"
      ],
      "metadata": {
        "colab": {
          "base_uri": "https://localhost:8080/"
        },
        "id": "10nyEzkDIq_2",
        "outputId": "a2fbcdd3-4046-4368-ee91-8a787b31e88d"
      },
      "execution_count": 120,
      "outputs": [
        {
          "output_type": "stream",
          "name": "stdout",
          "text": [
            "p-value 1.2069259525332788e-76\n"
          ]
        }
      ]
    },
    {
      "cell_type": "code",
      "source": [
        "if p_value < 0.05:\n",
        "  print(\"The sample does not follow normal distribution\")\n",
        "else:\n",
        "  print(\"The sample follows normal distribution'\")"
      ],
      "metadata": {
        "colab": {
          "base_uri": "https://localhost:8080/"
        },
        "id": "qPmmdHwxI-0V",
        "outputId": "d3b71777-eafb-4766-93a0-71bffb0c19a2"
      },
      "execution_count": 121,
      "outputs": [
        {
          "output_type": "stream",
          "name": "stdout",
          "text": [
            "The sample does not follow normal distribution\n"
          ]
        }
      ]
    },
    {
      "cell_type": "markdown",
      "source": [
        "**Lavene's Test**"
      ],
      "metadata": {
        "id": "nvpsMSzGJH4t"
      }
    },
    {
      "cell_type": "markdown",
      "source": [
        "*   H0 - Both aggregated actual_time and aggregated_segment_actual_time have homogeneous variance.\n",
        "*   Ha - Both aggregated actual_time and aggregated_segment_actual_time have non-homogeneous variance."
      ],
      "metadata": {
        "id": "2qK6iHhOJKIO"
      }
    },
    {
      "cell_type": "code",
      "source": [
        "test_stat, p_value = stats.levene(aggregated_actual_time, aggregated_segment_actual_time)\n",
        "print('p-value', p_value)"
      ],
      "metadata": {
        "colab": {
          "base_uri": "https://localhost:8080/"
        },
        "id": "A5F2znTZJAsM",
        "outputId": "d7385d66-5602-4d88-b8c1-97bcda6c586a"
      },
      "execution_count": 122,
      "outputs": [
        {
          "output_type": "stream",
          "name": "stdout",
          "text": [
            "p-value 0.6962681452003544\n"
          ]
        }
      ]
    },
    {
      "cell_type": "code",
      "source": [
        "if p_value < 0.05:\n",
        "  print('The samples do not have Homogenous Variance')\n",
        "else:\n",
        "  print('The samples have Homogenous Variance ')"
      ],
      "metadata": {
        "colab": {
          "base_uri": "https://localhost:8080/"
        },
        "id": "9YjnkjmAJpg9",
        "outputId": "bd1f249a-d63f-425b-d3d0-98ba83b75a38"
      },
      "execution_count": 123,
      "outputs": [
        {
          "output_type": "stream",
          "name": "stdout",
          "text": [
            "The samples have Homogenous Variance \n"
          ]
        }
      ]
    },
    {
      "cell_type": "markdown",
      "source": [
        "**Since the samples do not follow any of the assumptions T-Test cannot be applied here, we can perform its non parametric equivalent test i.e., Mann-Whitney U rank test for two independent samples.**"
      ],
      "metadata": {
        "id": "XugGLLHNJvpu"
      }
    },
    {
      "cell_type": "code",
      "source": [
        "test_stat, p_value = stats.mannwhitneyu(aggregated_actual_time, aggregated_segment_actual_time)\n",
        "print('p-value', p_value)"
      ],
      "metadata": {
        "colab": {
          "base_uri": "https://localhost:8080/"
        },
        "id": "4EOq9MtfKCYh",
        "outputId": "67d3ab0f-2057-49ee-dc88-de9e1fc66a9a"
      },
      "execution_count": 124,
      "outputs": [
        {
          "output_type": "stream",
          "name": "stdout",
          "text": [
            "p-value 0.41578601931625214\n"
          ]
        }
      ]
    },
    {
      "cell_type": "code",
      "source": [
        "if p_value < 0.05:\n",
        "  print('The samples are not similar')\n",
        "else:\n",
        "  print('The samples are similar ')"
      ],
      "metadata": {
        "colab": {
          "base_uri": "https://localhost:8080/"
        },
        "id": "Zhb12NPSKDW-",
        "outputId": "7d14cc10-5de7-4a30-f3f0-8b62fd531408"
      },
      "execution_count": 125,
      "outputs": [
        {
          "output_type": "stream",
          "name": "stdout",
          "text": [
            "The samples are similar \n"
          ]
        }
      ]
    },
    {
      "cell_type": "markdown",
      "source": [
        "Therefore,there is no difference b/w aggregated actual_time and aggregated segment actual time."
      ],
      "metadata": {
        "id": "_eix6XBuondN"
      }
    },
    {
      "cell_type": "markdown",
      "source": [
        "*   **Checking, If there is difference between aggregated OSRM distance and aggregated segment OSRM distance.**"
      ],
      "metadata": {
        "id": "Xnfx7Ir3kPsh"
      }
    },
    {
      "cell_type": "markdown",
      "source": [
        "**Tests to know if the samples follow normal distribution**"
      ],
      "metadata": {
        "id": "hJOVFq9PN9SQ"
      }
    },
    {
      "cell_type": "code",
      "source": [
        "plt.figure(figsize=(10,6))\n",
        "plt.subplot(121)\n",
        "sns.histplot(aggregated_osrm_distance,kde=True)\n",
        "plt.title(\"aggregated_osrm_distance\")\n",
        "plt.subplot(122)\n",
        "sns.histplot(aggregated_segment_osrm_distance,kde=True)\n",
        "plt.title(\"aggregated_segement_osrm_distance\")\n",
        "plt.show()"
      ],
      "metadata": {
        "colab": {
          "base_uri": "https://localhost:8080/",
          "height": 564
        },
        "id": "hCBzxeMVlzdD",
        "outputId": "131f476f-9f74-4e69-8239-7a3c74ef59da"
      },
      "execution_count": 126,
      "outputs": [
        {
          "output_type": "display_data",
          "data": {
            "text/plain": [
              "<Figure size 1000x600 with 2 Axes>"
            ],
            "image/png": "[encoded data removed]"
          },
          "metadata": {}
        }
      ]
    },
    {
      "cell_type": "markdown",
      "source": [
        "**QQ Plot**"
      ],
      "metadata": {
        "id": "kcR-UULFOIZ5"
      }
    },
    {
      "cell_type": "code",
      "source": [
        "plt.figure(figsize = (15, 6))\n",
        "plt.subplot(1, 2, 1)\n",
        "stats.probplot(aggregated_osrm_distance, plot = plt, dist = 'norm')\n",
        "plt.title('QQ plot for aggregated_osrm_distance')\n",
        "plt.subplot(1, 2, 2)\n",
        "stats.probplot(aggregated_segment_osrm_distance, plot = plt, dist = 'norm')\n",
        "plt.title('QQ plot for aggregated_segment_osrm_distance')\n",
        "plt.plot()"
      ],
      "metadata": {
        "colab": {
          "base_uri": "https://localhost:8080/",
          "height": 582
        },
        "id": "b4D4kp1rOaYO",
        "outputId": "e43267fa-e37c-44d7-9d73-16cf91c08265"
      },
      "execution_count": 127,
      "outputs": [
        {
          "output_type": "execute_result",
          "data": {
            "text/plain": [
              "[]"
            ]
          },
          "metadata": {},
          "execution_count": 127
        },
        {
          "output_type": "display_data",
          "data": {
            "text/plain": [
              "<Figure size 1500x600 with 2 Axes>"
            ],
            "image/png": "[encoded data removed]"
          },
          "metadata": {}
        }
      ]
    },
    {
      "cell_type": "markdown",
      "source": [
        "**From the graph's the samples don't follow normal distribution.**"
      ],
      "metadata": {
        "id": "2VPkEKBrPD5K"
      }
    },
    {
      "cell_type": "markdown",
      "source": [
        "**Shapiro-Wilk Test**"
      ],
      "metadata": {
        "id": "HFDzhzGGPMJd"
      }
    },
    {
      "cell_type": "markdown",
      "source": [
        "*   H0 - Both aggregated osrm distance and aggregated segment osrm distance follow normal distribution.\n",
        "*   Ha - Both aggregated osrm distance and aggregated segment osrm distance does not follow normal distribution."
      ],
      "metadata": {
        "id": "Mf0ePWauknAz"
      }
    },
    {
      "cell_type": "code",
      "source": [
        "test_stat, p_value = stats.shapiro(aggregated_osrm_distance.sample(5000))\n",
        "print('p-value', p_value)"
      ],
      "metadata": {
        "colab": {
          "base_uri": "https://localhost:8080/"
        },
        "id": "Tr9ytmUoP3Fo",
        "outputId": "8f8936dc-8eac-49a9-8552-70e3eb2b3078"
      },
      "execution_count": 128,
      "outputs": [
        {
          "output_type": "stream",
          "name": "stdout",
          "text": [
            "p-value 5.456471307799816e-79\n"
          ]
        }
      ]
    },
    {
      "cell_type": "code",
      "source": [
        "if p_value < 0.05:\n",
        "  print(\"The sample does not follow normal distribution\")\n",
        "else:\n",
        "  print(\"The sample follows normal distribution'\")"
      ],
      "metadata": {
        "colab": {
          "base_uri": "https://localhost:8080/"
        },
        "id": "SnUf24_9lwq1",
        "outputId": "7aed8096-f54e-4a96-bb1d-c634bb4749c6"
      },
      "execution_count": 129,
      "outputs": [
        {
          "output_type": "stream",
          "name": "stdout",
          "text": [
            "The sample does not follow normal distribution\n"
          ]
        }
      ]
    },
    {
      "cell_type": "code",
      "source": [
        "test_stat, p_value = stats.shapiro(aggregated_segment_osrm_distance.sample(5000))\n",
        "print('p-value', p_value)"
      ],
      "metadata": {
        "colab": {
          "base_uri": "https://localhost:8080/"
        },
        "id": "7erxvvXfQAK5",
        "outputId": "398ae58a-e9bc-4d7c-853e-0e7931418390"
      },
      "execution_count": 130,
      "outputs": [
        {
          "output_type": "stream",
          "name": "stdout",
          "text": [
            "p-value 6.3111999962921364e-80\n"
          ]
        }
      ]
    },
    {
      "cell_type": "code",
      "source": [
        "if p_value < 0.05:\n",
        "  print(\"The sample does not follow normal distribution\")\n",
        "else:\n",
        "  print(\"The sample follows normal distribution'\")"
      ],
      "metadata": {
        "colab": {
          "base_uri": "https://localhost:8080/"
        },
        "id": "sFGsi4_PQQm3",
        "outputId": "b1d6dc61-21bc-48b0-e3a2-55a71cfff50d"
      },
      "execution_count": 131,
      "outputs": [
        {
          "output_type": "stream",
          "name": "stdout",
          "text": [
            "The sample does not follow normal distribution\n"
          ]
        }
      ]
    },
    {
      "cell_type": "markdown",
      "source": [
        "**Lavene's Test**"
      ],
      "metadata": {
        "id": "bnLE2lZFQZ4F"
      }
    },
    {
      "cell_type": "markdown",
      "source": [
        "*   H0 - Both aggregated_osrm_distance and aggregated_segment_osrm_distance have homogeneous variance.\n",
        "*   Ha - Both aggregated_osrm_distance and aggregated_segment_osrm_distance have non-homogeneous variance."
      ],
      "metadata": {
        "id": "yVRv9ftmQ3UI"
      }
    },
    {
      "cell_type": "code",
      "source": [
        "test_stat, p_value = stats.levene(aggregated_osrm_distance, aggregated_segment_osrm_distance)\n",
        "print('p-value', p_value)"
      ],
      "metadata": {
        "colab": {
          "base_uri": "https://localhost:8080/"
        },
        "id": "9PQ81wMYRnlO",
        "outputId": "b16dd173-c61b-4bff-f886-3c9289d84d80"
      },
      "execution_count": 132,
      "outputs": [
        {
          "output_type": "stream",
          "name": "stdout",
          "text": [
            "p-value 0.00022171213513990103\n"
          ]
        }
      ]
    },
    {
      "cell_type": "code",
      "source": [
        "if p_value < 0.05:\n",
        "  print('The samples do not have Homogenous Variance')\n",
        "else:\n",
        "  print('The samples have Homogenous Variance ')"
      ],
      "metadata": {
        "colab": {
          "base_uri": "https://localhost:8080/"
        },
        "id": "Vh_bEPZnR56o",
        "outputId": "107562e5-4f8a-4224-b98d-c30d1d888ab6"
      },
      "execution_count": 133,
      "outputs": [
        {
          "output_type": "stream",
          "name": "stdout",
          "text": [
            "The samples do not have Homogenous Variance\n"
          ]
        }
      ]
    },
    {
      "cell_type": "markdown",
      "source": [
        "**Since the samples do not follow any of the assumptions T-Test cannot be applied here, we can perform its non parametric equivalent test i.e., Mann-Whitney U rank test for two independent samples.**"
      ],
      "metadata": {
        "id": "Oc0492feR7K7"
      }
    },
    {
      "cell_type": "code",
      "source": [
        "test_stat, p_value = stats.mannwhitneyu(aggregated_osrm_distance, aggregated_segment_osrm_distance)\n",
        "print('p-value', p_value)"
      ],
      "metadata": {
        "colab": {
          "base_uri": "https://localhost:8080/"
        },
        "id": "Qdinci7MSFFy",
        "outputId": "3ac8c2a4-5dfa-4a04-e321-f21fc7566ce4"
      },
      "execution_count": 134,
      "outputs": [
        {
          "output_type": "stream",
          "name": "stdout",
          "text": [
            "p-value 1.0001087659092072e-06\n"
          ]
        }
      ]
    },
    {
      "cell_type": "code",
      "source": [
        "if p_value < 0.05:\n",
        "  print('The samples are not similar')\n",
        "else:\n",
        "  print('The samples are similar ')"
      ],
      "metadata": {
        "colab": {
          "base_uri": "https://localhost:8080/"
        },
        "id": "HAuipqOESVnz",
        "outputId": "8dffb88b-bd29-43ce-ab37-27580d5d2574"
      },
      "execution_count": 135,
      "outputs": [
        {
          "output_type": "stream",
          "name": "stdout",
          "text": [
            "The samples are not similar\n"
          ]
        }
      ]
    },
    {
      "cell_type": "markdown",
      "source": [
        "Therefore,there is difference b/w aggregated osrm distance and aggregated segment osrm distance."
      ],
      "metadata": {
        "id": "30ExHDLzoszZ"
      }
    },
    {
      "cell_type": "markdown",
      "source": [
        "*   **Checking, If there is difference between mean's of aggregated OSRM time and aggregated segment OSRM time.**"
      ],
      "metadata": {
        "id": "Heqj4kkfmv4U"
      }
    },
    {
      "cell_type": "markdown",
      "source": [
        "**Tests to know if the samples follow normal distribution**"
      ],
      "metadata": {
        "id": "i6zXoqwkTbfV"
      }
    },
    {
      "cell_type": "code",
      "source": [
        "plt.figure(figsize=(10,6))\n",
        "plt.subplot(121)\n",
        "sns.histplot(aggregated_osrm_time,kde=True)\n",
        "plt.title(\"aggregated_osrm_time\")\n",
        "plt.subplot(122)\n",
        "sns.histplot(aggregated_segment_osrm_time,kde=True)\n",
        "plt.title(\"aggregated_segement_osrm_time\")\n",
        "plt.show()"
      ],
      "metadata": {
        "colab": {
          "base_uri": "https://localhost:8080/",
          "height": 564
        },
        "id": "y7JrtrfonXks",
        "outputId": "c4655d20-1156-4353-c838-33b1daa71663"
      },
      "execution_count": 136,
      "outputs": [
        {
          "output_type": "display_data",
          "data": {
            "text/plain": [
              "<Figure size 1000x600 with 2 Axes>"
            ],
            "image/png": "[encoded data removed]"
          },
          "metadata": {}
        }
      ]
    },
    {
      "cell_type": "markdown",
      "source": [
        "**QQ Plot**"
      ],
      "metadata": {
        "id": "m2JAs8tIZPCi"
      }
    },
    {
      "cell_type": "code",
      "source": [
        "plt.figure(figsize = (15, 6))\n",
        "plt.subplot(1, 2, 1)\n",
        "stats.probplot(aggregated_osrm_time, plot = plt, dist = 'norm')\n",
        "plt.title('QQ plot for aggregated_osrm_time')\n",
        "plt.subplot(1, 2, 2)\n",
        "stats.probplot(aggregated_segment_osrm_time, plot = plt, dist = 'norm')\n",
        "plt.title('QQ plot for aggregated_segment_osrm_time')\n",
        "plt.plot()"
      ],
      "metadata": {
        "colab": {
          "base_uri": "https://localhost:8080/",
          "height": 582
        },
        "id": "Yp4lYiT9Zfmw",
        "outputId": "ad44e8d9-467e-4ce9-d4fa-321f186c227e"
      },
      "execution_count": 137,
      "outputs": [
        {
          "output_type": "execute_result",
          "data": {
            "text/plain": [
              "[]"
            ]
          },
          "metadata": {},
          "execution_count": 137
        },
        {
          "output_type": "display_data",
          "data": {
            "text/plain": [
              "<Figure size 1500x600 with 2 Axes>"
            ],
            "image/png": "[encoded data removed]"
          },
          "metadata": {}
        }
      ]
    },
    {
      "cell_type": "markdown",
      "source": [
        "**From the graph's the samples don't follow normal distribution.**"
      ],
      "metadata": {
        "id": "xm8YsWbvaEaH"
      }
    },
    {
      "cell_type": "markdown",
      "source": [
        "**Shapiro-Wilk Test**"
      ],
      "metadata": {
        "id": "4um7wlBsaKxa"
      }
    },
    {
      "cell_type": "markdown",
      "source": [
        "*   H0 - Both aggregated osrm time and aggregated segment osrm time follow normal distribution.\n",
        "*   Ha - Both aggregated osrm time and aggregated segment osrm time does not follow normal distribution."
      ],
      "metadata": {
        "id": "F-ok1W9Nmx6U"
      }
    },
    {
      "cell_type": "code",
      "source": [
        "test_stat, p_value = stats.shapiro(aggregated_osrm_time.sample(5000))\n",
        "print('p-value', p_value)"
      ],
      "metadata": {
        "colab": {
          "base_uri": "https://localhost:8080/"
        },
        "id": "iDxezVdkmxXd",
        "outputId": "e0d827cf-100b-40e6-f73f-e6463dc3f88a"
      },
      "execution_count": 138,
      "outputs": [
        {
          "output_type": "stream",
          "name": "stdout",
          "text": [
            "p-value 1.5168534071363453e-77\n"
          ]
        }
      ]
    },
    {
      "cell_type": "code",
      "source": [
        "if p_value < 0.05:\n",
        "  print(\"The sample does not follow normal distribution\")\n",
        "else:\n",
        "  print(\"The sample follows normal distribution'\")"
      ],
      "metadata": {
        "colab": {
          "base_uri": "https://localhost:8080/"
        },
        "id": "-G76OnSjnURc",
        "outputId": "4612225d-ddd6-4b70-8679-120ca023d668"
      },
      "execution_count": 139,
      "outputs": [
        {
          "output_type": "stream",
          "name": "stdout",
          "text": [
            "The sample does not follow normal distribution\n"
          ]
        }
      ]
    },
    {
      "cell_type": "code",
      "source": [
        "test_stat, p_value = stats.shapiro(aggregated_segment_osrm_time.sample(5000))\n",
        "print('p-value', p_value)"
      ],
      "metadata": {
        "colab": {
          "base_uri": "https://localhost:8080/"
        },
        "id": "O-4cTNRMapi5",
        "outputId": "840b9554-504c-4c16-87d1-0da6fc5e39d4"
      },
      "execution_count": 140,
      "outputs": [
        {
          "output_type": "stream",
          "name": "stdout",
          "text": [
            "p-value 5.106014640979034e-79\n"
          ]
        }
      ]
    },
    {
      "cell_type": "code",
      "source": [
        "if p_value < 0.05:\n",
        "  print(\"The sample does not follow normal distribution\")\n",
        "else:\n",
        "  print(\"The sample follows normal distribution'\")"
      ],
      "metadata": {
        "colab": {
          "base_uri": "https://localhost:8080/"
        },
        "id": "qFXHp_6BaxmL",
        "outputId": "1f2efe92-5e61-4251-94b2-3e1547323f94"
      },
      "execution_count": 141,
      "outputs": [
        {
          "output_type": "stream",
          "name": "stdout",
          "text": [
            "The sample does not follow normal distribution\n"
          ]
        }
      ]
    },
    {
      "cell_type": "markdown",
      "source": [
        "**Lavene's Test**"
      ],
      "metadata": {
        "id": "1XQQaiFsbFxJ"
      }
    },
    {
      "cell_type": "markdown",
      "source": [
        "*   H0 - Both aggregated_osrm_time and aggregated_segment_osrm_time have homogeneous variance.\n",
        "*   Ha - Both aggregated_osrm_time and aggregated_segment_osrm_time have non-homogeneous variance."
      ],
      "metadata": {
        "id": "252nAToQbP8F"
      }
    },
    {
      "cell_type": "code",
      "source": [
        "test_stat, p_value = stats.levene(aggregated_osrm_time, aggregated_segment_osrm_time)\n",
        "print('p-value', p_value)"
      ],
      "metadata": {
        "colab": {
          "base_uri": "https://localhost:8080/"
        },
        "id": "qoU_RiQhbRNg",
        "outputId": "9f93074a-3b6b-4b1d-fa30-2079fb904c5c"
      },
      "execution_count": 142,
      "outputs": [
        {
          "output_type": "stream",
          "name": "stdout",
          "text": [
            "p-value 9.250556006347759e-08\n"
          ]
        }
      ]
    },
    {
      "cell_type": "code",
      "source": [
        "if p_value < 0.05:\n",
        "  print('The samples do not have Homogenous Variance')\n",
        "else:\n",
        "  print('The samples have Homogenous Variance ')"
      ],
      "metadata": {
        "colab": {
          "base_uri": "https://localhost:8080/"
        },
        "id": "gyju66bdbuQx",
        "outputId": "0fdc584a-50ed-4d2c-cac7-d37e6f725195"
      },
      "execution_count": 143,
      "outputs": [
        {
          "output_type": "stream",
          "name": "stdout",
          "text": [
            "The samples do not have Homogenous Variance\n"
          ]
        }
      ]
    },
    {
      "cell_type": "markdown",
      "source": [
        "**Since the samples do not follow any of the assumptions T-Test cannot be applied here, we can perform its non parametric equivalent test i.e., Mann-Whitney U rank test for two independent samples.**"
      ],
      "metadata": {
        "id": "Tj8zbeEkbvgN"
      }
    },
    {
      "cell_type": "code",
      "source": [
        "test_stat, p_value = stats.mannwhitneyu(aggregated_osrm_distance, aggregated_segment_osrm_distance)\n",
        "print('p-value', p_value)"
      ],
      "metadata": {
        "colab": {
          "base_uri": "https://localhost:8080/"
        },
        "id": "NGD4uY-eb_EY",
        "outputId": "c72af150-e0ab-4d88-a307-560afd4b0caf"
      },
      "execution_count": 144,
      "outputs": [
        {
          "output_type": "stream",
          "name": "stdout",
          "text": [
            "p-value 1.0001087659092072e-06\n"
          ]
        }
      ]
    },
    {
      "cell_type": "code",
      "source": [
        "if p_value < 0.05:\n",
        "  print('The samples are not similar')\n",
        "else:\n",
        "  print('The samples are similar ')"
      ],
      "metadata": {
        "colab": {
          "base_uri": "https://localhost:8080/"
        },
        "id": "awB0GgR9b_97",
        "outputId": "71e308be-462d-4e3e-a348-c5570a7eecfa"
      },
      "execution_count": 145,
      "outputs": [
        {
          "output_type": "stream",
          "name": "stdout",
          "text": [
            "The samples are not similar\n"
          ]
        }
      ]
    },
    {
      "cell_type": "markdown",
      "source": [
        "Therefore,there is difference b/w aggregated osrm time and aggregated segment osrm time."
      ],
      "metadata": {
        "id": "xJXDNk4OoxyK"
      }
    },
    {
      "cell_type": "markdown",
      "source": [
        "*    **Recommendations**"
      ],
      "metadata": {
        "id": "w1tPqqJPNk3h"
      }
    },
    {
      "cell_type": "markdown",
      "source": [
        "1.   Maharashtra state has more number of order deliveries within the state.\n",
        "   So,delhivery has to focus on logistics and mobility of orders in mumbai.\n",
        "2.   Mumbai - Bhiwandi corridor in maharashtra is the busiest corridor for the delhivery business.\n",
        "The average distance is 22.48 units to travel through the corridor.\n",
        "The average time is 84.68 units time taken to travel through the corridor."
      ],
      "metadata": {
        "id": "EV5t0HiCN35z"
      }
    }
  ]
}